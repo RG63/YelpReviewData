{
 "cells": [
  {
   "cell_type": "code",
   "execution_count": 66,
   "metadata": {},
   "outputs": [],
   "source": [
    "import pandas as pd\n",
    "import matplotlib.pyplot as plt"
   ]
  },
  {
   "cell_type": "code",
   "execution_count": 2,
   "metadata": {},
   "outputs": [],
   "source": [
    "data_tip = pd.read_csv('yelp_tip.csv')\n",
    "data_checkin = pd.read_csv('yelp_checkin.csv')\n",
    "data_business = pd.read_csv('yelp_business.csv')\n",
    "data_businesshours = pd.read_csv('yelp_business_hours.csv')\n",
    "data_user = pd.read_csv('yelp_user.csv')"
   ]
  },
  {
   "cell_type": "code",
   "execution_count": 3,
   "metadata": {},
   "outputs": [],
   "source": [
    "df_tip = pd.DataFrame(data_tip)\n",
    "df_checkin = pd.DataFrame(data_checkin)\n",
    "df_business = pd.DataFrame(data_business)\n",
    "df_businesshours = pd.DataFrame(data_businesshours)\n",
    "df_user = pd.DataFrame(data_user)"
   ]
  },
  {
   "cell_type": "code",
   "execution_count": 4,
   "metadata": {},
   "outputs": [
    {
     "data": {
      "text/plain": [
       "(1098324, 5)"
      ]
     },
     "execution_count": 4,
     "metadata": {},
     "output_type": "execute_result"
    }
   ],
   "source": [
    "#df_tip cleaing\n",
    "df_tip.shape"
   ]
  },
  {
   "cell_type": "code",
   "execution_count": 5,
   "metadata": {},
   "outputs": [
    {
     "data": {
      "text/html": [
       "<div>\n",
       "<style scoped>\n",
       "    .dataframe tbody tr th:only-of-type {\n",
       "        vertical-align: middle;\n",
       "    }\n",
       "\n",
       "    .dataframe tbody tr th {\n",
       "        vertical-align: top;\n",
       "    }\n",
       "\n",
       "    .dataframe thead th {\n",
       "        text-align: right;\n",
       "    }\n",
       "</style>\n",
       "<table border=\"1\" class=\"dataframe\">\n",
       "  <thead>\n",
       "    <tr style=\"text-align: right;\">\n",
       "      <th></th>\n",
       "      <th>text</th>\n",
       "      <th>date</th>\n",
       "      <th>likes</th>\n",
       "      <th>business_id</th>\n",
       "      <th>user_id</th>\n",
       "    </tr>\n",
       "  </thead>\n",
       "  <tbody>\n",
       "    <tr>\n",
       "      <th>0</th>\n",
       "      <td>Great breakfast large portions and friendly wa...</td>\n",
       "      <td>2015-08-12</td>\n",
       "      <td>0</td>\n",
       "      <td>jH19V2I9fIslnNhDzPmdkA</td>\n",
       "      <td>ZcLKXikTHYOnYt5VYRO5sg</td>\n",
       "    </tr>\n",
       "    <tr>\n",
       "      <th>1</th>\n",
       "      <td>Nice place. Great staff.  A fixture in the tow...</td>\n",
       "      <td>2014-06-20</td>\n",
       "      <td>0</td>\n",
       "      <td>dAa0hB2yrnHzVmsCkN4YvQ</td>\n",
       "      <td>oaYhjqBbh18ZhU0bpyzSuw</td>\n",
       "    </tr>\n",
       "    <tr>\n",
       "      <th>2</th>\n",
       "      <td>Happy hour 5-7 Monday - Friday</td>\n",
       "      <td>2016-10-12</td>\n",
       "      <td>0</td>\n",
       "      <td>dAa0hB2yrnHzVmsCkN4YvQ</td>\n",
       "      <td>ulQ8Nyj7jCUR8M83SUMoRQ</td>\n",
       "    </tr>\n",
       "    <tr>\n",
       "      <th>3</th>\n",
       "      <td>Parking is a premium, keep circling, you will ...</td>\n",
       "      <td>2017-01-28</td>\n",
       "      <td>0</td>\n",
       "      <td>ESzO3Av0b1_TzKOiqzbQYQ</td>\n",
       "      <td>ulQ8Nyj7jCUR8M83SUMoRQ</td>\n",
       "    </tr>\n",
       "    <tr>\n",
       "      <th>4</th>\n",
       "      <td>Homemade pasta is the best in the area</td>\n",
       "      <td>2017-02-25</td>\n",
       "      <td>0</td>\n",
       "      <td>k7WRPbDd7rztjHcGGkEjlw</td>\n",
       "      <td>ulQ8Nyj7jCUR8M83SUMoRQ</td>\n",
       "    </tr>\n",
       "    <tr>\n",
       "      <th>5</th>\n",
       "      <td>Excellent service, staff is dressed profession...</td>\n",
       "      <td>2017-04-08</td>\n",
       "      <td>0</td>\n",
       "      <td>k7WRPbDd7rztjHcGGkEjlw</td>\n",
       "      <td>ulQ8Nyj7jCUR8M83SUMoRQ</td>\n",
       "    </tr>\n",
       "    <tr>\n",
       "      <th>6</th>\n",
       "      <td>Come early on Sunday's to avoid the rush</td>\n",
       "      <td>2016-07-03</td>\n",
       "      <td>0</td>\n",
       "      <td>SqW3igh1_Png336VIb5DUA</td>\n",
       "      <td>ulQ8Nyj7jCUR8M83SUMoRQ</td>\n",
       "    </tr>\n",
       "    <tr>\n",
       "      <th>7</th>\n",
       "      <td>Love their soup!</td>\n",
       "      <td>2016-01-07</td>\n",
       "      <td>0</td>\n",
       "      <td>KNpcPGqDORDdvtekXd348w</td>\n",
       "      <td>ulQ8Nyj7jCUR8M83SUMoRQ</td>\n",
       "    </tr>\n",
       "    <tr>\n",
       "      <th>8</th>\n",
       "      <td>Soups are fantastic!</td>\n",
       "      <td>2016-05-22</td>\n",
       "      <td>0</td>\n",
       "      <td>KNpcPGqDORDdvtekXd348w</td>\n",
       "      <td>ulQ8Nyj7jCUR8M83SUMoRQ</td>\n",
       "    </tr>\n",
       "    <tr>\n",
       "      <th>9</th>\n",
       "      <td>Thursday night is $5 burger night</td>\n",
       "      <td>2016-06-09</td>\n",
       "      <td>0</td>\n",
       "      <td>KNpcPGqDORDdvtekXd348w</td>\n",
       "      <td>ulQ8Nyj7jCUR8M83SUMoRQ</td>\n",
       "    </tr>\n",
       "  </tbody>\n",
       "</table>\n",
       "</div>"
      ],
      "text/plain": [
       "                                                text        date  likes  \\\n",
       "0  Great breakfast large portions and friendly wa...  2015-08-12      0   \n",
       "1  Nice place. Great staff.  A fixture in the tow...  2014-06-20      0   \n",
       "2                     Happy hour 5-7 Monday - Friday  2016-10-12      0   \n",
       "3  Parking is a premium, keep circling, you will ...  2017-01-28      0   \n",
       "4             Homemade pasta is the best in the area  2017-02-25      0   \n",
       "5  Excellent service, staff is dressed profession...  2017-04-08      0   \n",
       "6           Come early on Sunday's to avoid the rush  2016-07-03      0   \n",
       "7                                   Love their soup!  2016-01-07      0   \n",
       "8                               Soups are fantastic!  2016-05-22      0   \n",
       "9                  Thursday night is $5 burger night  2016-06-09      0   \n",
       "\n",
       "              business_id                 user_id  \n",
       "0  jH19V2I9fIslnNhDzPmdkA  ZcLKXikTHYOnYt5VYRO5sg  \n",
       "1  dAa0hB2yrnHzVmsCkN4YvQ  oaYhjqBbh18ZhU0bpyzSuw  \n",
       "2  dAa0hB2yrnHzVmsCkN4YvQ  ulQ8Nyj7jCUR8M83SUMoRQ  \n",
       "3  ESzO3Av0b1_TzKOiqzbQYQ  ulQ8Nyj7jCUR8M83SUMoRQ  \n",
       "4  k7WRPbDd7rztjHcGGkEjlw  ulQ8Nyj7jCUR8M83SUMoRQ  \n",
       "5  k7WRPbDd7rztjHcGGkEjlw  ulQ8Nyj7jCUR8M83SUMoRQ  \n",
       "6  SqW3igh1_Png336VIb5DUA  ulQ8Nyj7jCUR8M83SUMoRQ  \n",
       "7  KNpcPGqDORDdvtekXd348w  ulQ8Nyj7jCUR8M83SUMoRQ  \n",
       "8  KNpcPGqDORDdvtekXd348w  ulQ8Nyj7jCUR8M83SUMoRQ  \n",
       "9  KNpcPGqDORDdvtekXd348w  ulQ8Nyj7jCUR8M83SUMoRQ  "
      ]
     },
     "execution_count": 5,
     "metadata": {},
     "output_type": "execute_result"
    }
   ],
   "source": [
    "df_tip.head(n=10)"
   ]
  },
  {
   "cell_type": "code",
   "execution_count": 6,
   "metadata": {},
   "outputs": [
    {
     "data": {
      "text/plain": [
       "text           object\n",
       "date           object\n",
       "likes           int64\n",
       "business_id    object\n",
       "user_id        object\n",
       "dtype: object"
      ]
     },
     "execution_count": 6,
     "metadata": {},
     "output_type": "execute_result"
    }
   ],
   "source": [
    "df_tip.dtypes"
   ]
  },
  {
   "cell_type": "code",
   "execution_count": 7,
   "metadata": {},
   "outputs": [
    {
     "data": {
      "text/plain": [
       "text           2\n",
       "date           0\n",
       "likes          0\n",
       "business_id    0\n",
       "user_id        0\n",
       "dtype: int64"
      ]
     },
     "execution_count": 7,
     "metadata": {},
     "output_type": "execute_result"
    }
   ],
   "source": [
    "df_tip.isna().sum()"
   ]
  },
  {
   "cell_type": "code",
   "execution_count": 8,
   "metadata": {},
   "outputs": [],
   "source": [
    "df_tip['text'] = df_tip['text'].fillna('None')"
   ]
  },
  {
   "cell_type": "code",
   "execution_count": 9,
   "metadata": {},
   "outputs": [
    {
     "data": {
      "text/plain": [
       "text           0\n",
       "date           0\n",
       "likes          0\n",
       "business_id    0\n",
       "user_id        0\n",
       "dtype: int64"
      ]
     },
     "execution_count": 9,
     "metadata": {},
     "output_type": "execute_result"
    }
   ],
   "source": [
    "df_tip.isna().sum()"
   ]
  },
  {
   "cell_type": "code",
   "execution_count": 10,
   "metadata": {},
   "outputs": [
    {
     "data": {
      "text/plain": [
       "1029"
      ]
     },
     "execution_count": 10,
     "metadata": {},
     "output_type": "execute_result"
    }
   ],
   "source": [
    "df_tip.duplicated().sum()"
   ]
  },
  {
   "cell_type": "code",
   "execution_count": 11,
   "metadata": {},
   "outputs": [
    {
     "data": {
      "text/plain": [
       "(1097295, 5)"
      ]
     },
     "execution_count": 11,
     "metadata": {},
     "output_type": "execute_result"
    }
   ],
   "source": [
    "df_tip = df_tip.drop_duplicates()\n",
    "df_tip.shape"
   ]
  },
  {
   "cell_type": "code",
   "execution_count": 12,
   "metadata": {},
   "outputs": [
    {
     "data": {
      "text/html": [
       "<div>\n",
       "<style scoped>\n",
       "    .dataframe tbody tr th:only-of-type {\n",
       "        vertical-align: middle;\n",
       "    }\n",
       "\n",
       "    .dataframe tbody tr th {\n",
       "        vertical-align: top;\n",
       "    }\n",
       "\n",
       "    .dataframe thead th {\n",
       "        text-align: right;\n",
       "    }\n",
       "</style>\n",
       "<table border=\"1\" class=\"dataframe\">\n",
       "  <thead>\n",
       "    <tr style=\"text-align: right;\">\n",
       "      <th></th>\n",
       "      <th>business_id</th>\n",
       "      <th>weekday</th>\n",
       "      <th>hour</th>\n",
       "      <th>checkins</th>\n",
       "    </tr>\n",
       "  </thead>\n",
       "  <tbody>\n",
       "    <tr>\n",
       "      <th>0</th>\n",
       "      <td>3Mc-LxcqeguOXOVT_2ZtCg</td>\n",
       "      <td>Tue</td>\n",
       "      <td>0:00</td>\n",
       "      <td>12</td>\n",
       "    </tr>\n",
       "    <tr>\n",
       "      <th>1</th>\n",
       "      <td>SVFx6_epO22bZTZnKwlX7g</td>\n",
       "      <td>Wed</td>\n",
       "      <td>0:00</td>\n",
       "      <td>4</td>\n",
       "    </tr>\n",
       "    <tr>\n",
       "      <th>2</th>\n",
       "      <td>vW9aLivd4-IorAfStzsHww</td>\n",
       "      <td>Tue</td>\n",
       "      <td>14:00</td>\n",
       "      <td>1</td>\n",
       "    </tr>\n",
       "    <tr>\n",
       "      <th>3</th>\n",
       "      <td>tEzxhauTQddACyqdJ0OPEQ</td>\n",
       "      <td>Fri</td>\n",
       "      <td>19:00</td>\n",
       "      <td>1</td>\n",
       "    </tr>\n",
       "    <tr>\n",
       "      <th>4</th>\n",
       "      <td>CEyZU32P-vtMhgqRCaXzMA</td>\n",
       "      <td>Tue</td>\n",
       "      <td>17:00</td>\n",
       "      <td>1</td>\n",
       "    </tr>\n",
       "  </tbody>\n",
       "</table>\n",
       "</div>"
      ],
      "text/plain": [
       "              business_id weekday   hour  checkins\n",
       "0  3Mc-LxcqeguOXOVT_2ZtCg     Tue   0:00        12\n",
       "1  SVFx6_epO22bZTZnKwlX7g     Wed   0:00         4\n",
       "2  vW9aLivd4-IorAfStzsHww     Tue  14:00         1\n",
       "3  tEzxhauTQddACyqdJ0OPEQ     Fri  19:00         1\n",
       "4  CEyZU32P-vtMhgqRCaXzMA     Tue  17:00         1"
      ]
     },
     "execution_count": 12,
     "metadata": {},
     "output_type": "execute_result"
    }
   ],
   "source": [
    "#df_checkin cleaning\n",
    "df_checkin.head()"
   ]
  },
  {
   "cell_type": "code",
   "execution_count": 13,
   "metadata": {},
   "outputs": [
    {
     "data": {
      "text/plain": [
       "(3911218, 4)"
      ]
     },
     "execution_count": 13,
     "metadata": {},
     "output_type": "execute_result"
    }
   ],
   "source": [
    "df_checkin.shape"
   ]
  },
  {
   "cell_type": "code",
   "execution_count": 14,
   "metadata": {},
   "outputs": [
    {
     "data": {
      "text/plain": [
       "business_id    0\n",
       "weekday        0\n",
       "hour           0\n",
       "checkins       0\n",
       "dtype: int64"
      ]
     },
     "execution_count": 14,
     "metadata": {},
     "output_type": "execute_result"
    }
   ],
   "source": [
    "df_checkin.isna().sum()"
   ]
  },
  {
   "cell_type": "code",
   "execution_count": 15,
   "metadata": {},
   "outputs": [
    {
     "data": {
      "text/plain": [
       "0"
      ]
     },
     "execution_count": 15,
     "metadata": {},
     "output_type": "execute_result"
    }
   ],
   "source": [
    "df_checkin.duplicated().sum()"
   ]
  },
  {
   "cell_type": "code",
   "execution_count": 16,
   "metadata": {},
   "outputs": [
    {
     "data": {
      "text/html": [
       "<div>\n",
       "<style scoped>\n",
       "    .dataframe tbody tr th:only-of-type {\n",
       "        vertical-align: middle;\n",
       "    }\n",
       "\n",
       "    .dataframe tbody tr th {\n",
       "        vertical-align: top;\n",
       "    }\n",
       "\n",
       "    .dataframe thead th {\n",
       "        text-align: right;\n",
       "    }\n",
       "</style>\n",
       "<table border=\"1\" class=\"dataframe\">\n",
       "  <thead>\n",
       "    <tr style=\"text-align: right;\">\n",
       "      <th></th>\n",
       "      <th>business_id</th>\n",
       "      <th>name</th>\n",
       "      <th>neighborhood</th>\n",
       "      <th>address</th>\n",
       "      <th>city</th>\n",
       "      <th>state</th>\n",
       "      <th>postal_code</th>\n",
       "      <th>latitude</th>\n",
       "      <th>longitude</th>\n",
       "      <th>stars</th>\n",
       "      <th>review_count</th>\n",
       "      <th>is_open</th>\n",
       "      <th>categories</th>\n",
       "    </tr>\n",
       "  </thead>\n",
       "  <tbody>\n",
       "    <tr>\n",
       "      <th>0</th>\n",
       "      <td>FYWN1wneV18bWNgQjJ2GNg</td>\n",
       "      <td>\"Dental by Design\"</td>\n",
       "      <td>NaN</td>\n",
       "      <td>\"4855 E Warner Rd, Ste B9\"</td>\n",
       "      <td>Ahwatukee</td>\n",
       "      <td>AZ</td>\n",
       "      <td>85044</td>\n",
       "      <td>33.330690</td>\n",
       "      <td>-111.978599</td>\n",
       "      <td>4.0</td>\n",
       "      <td>22</td>\n",
       "      <td>1</td>\n",
       "      <td>Dentists;General Dentistry;Health &amp; Medical;Or...</td>\n",
       "    </tr>\n",
       "    <tr>\n",
       "      <th>1</th>\n",
       "      <td>He-G7vWjzVUysIKrfNbPUQ</td>\n",
       "      <td>\"Stephen Szabo Salon\"</td>\n",
       "      <td>NaN</td>\n",
       "      <td>\"3101 Washington Rd\"</td>\n",
       "      <td>McMurray</td>\n",
       "      <td>PA</td>\n",
       "      <td>15317</td>\n",
       "      <td>40.291685</td>\n",
       "      <td>-80.104900</td>\n",
       "      <td>3.0</td>\n",
       "      <td>11</td>\n",
       "      <td>1</td>\n",
       "      <td>Hair Stylists;Hair Salons;Men's Hair Salons;Bl...</td>\n",
       "    </tr>\n",
       "    <tr>\n",
       "      <th>2</th>\n",
       "      <td>KQPW8lFf1y5BT2MxiSZ3QA</td>\n",
       "      <td>\"Western Motor Vehicle\"</td>\n",
       "      <td>NaN</td>\n",
       "      <td>\"6025 N 27th Ave, Ste 1\"</td>\n",
       "      <td>Phoenix</td>\n",
       "      <td>AZ</td>\n",
       "      <td>85017</td>\n",
       "      <td>33.524903</td>\n",
       "      <td>-112.115310</td>\n",
       "      <td>1.5</td>\n",
       "      <td>18</td>\n",
       "      <td>1</td>\n",
       "      <td>Departments of Motor Vehicles;Public Services ...</td>\n",
       "    </tr>\n",
       "    <tr>\n",
       "      <th>3</th>\n",
       "      <td>8DShNS-LuFqpEWIp0HxijA</td>\n",
       "      <td>\"Sports Authority\"</td>\n",
       "      <td>NaN</td>\n",
       "      <td>\"5000 Arizona Mills Cr, Ste 435\"</td>\n",
       "      <td>Tempe</td>\n",
       "      <td>AZ</td>\n",
       "      <td>85282</td>\n",
       "      <td>33.383147</td>\n",
       "      <td>-111.964725</td>\n",
       "      <td>3.0</td>\n",
       "      <td>9</td>\n",
       "      <td>0</td>\n",
       "      <td>Sporting Goods;Shopping</td>\n",
       "    </tr>\n",
       "    <tr>\n",
       "      <th>4</th>\n",
       "      <td>PfOCPjBrlQAnz__NXj9h_w</td>\n",
       "      <td>\"Brick House Tavern + Tap\"</td>\n",
       "      <td>NaN</td>\n",
       "      <td>\"581 Howe Ave\"</td>\n",
       "      <td>Cuyahoga Falls</td>\n",
       "      <td>OH</td>\n",
       "      <td>44221</td>\n",
       "      <td>41.119535</td>\n",
       "      <td>-81.475690</td>\n",
       "      <td>3.5</td>\n",
       "      <td>116</td>\n",
       "      <td>1</td>\n",
       "      <td>American (New);Nightlife;Bars;Sandwiches;Ameri...</td>\n",
       "    </tr>\n",
       "  </tbody>\n",
       "</table>\n",
       "</div>"
      ],
      "text/plain": [
       "              business_id                        name neighborhood  \\\n",
       "0  FYWN1wneV18bWNgQjJ2GNg          \"Dental by Design\"          NaN   \n",
       "1  He-G7vWjzVUysIKrfNbPUQ       \"Stephen Szabo Salon\"          NaN   \n",
       "2  KQPW8lFf1y5BT2MxiSZ3QA     \"Western Motor Vehicle\"          NaN   \n",
       "3  8DShNS-LuFqpEWIp0HxijA          \"Sports Authority\"          NaN   \n",
       "4  PfOCPjBrlQAnz__NXj9h_w  \"Brick House Tavern + Tap\"          NaN   \n",
       "\n",
       "                            address            city state postal_code  \\\n",
       "0        \"4855 E Warner Rd, Ste B9\"       Ahwatukee    AZ       85044   \n",
       "1              \"3101 Washington Rd\"        McMurray    PA       15317   \n",
       "2          \"6025 N 27th Ave, Ste 1\"         Phoenix    AZ       85017   \n",
       "3  \"5000 Arizona Mills Cr, Ste 435\"           Tempe    AZ       85282   \n",
       "4                    \"581 Howe Ave\"  Cuyahoga Falls    OH       44221   \n",
       "\n",
       "    latitude   longitude  stars  review_count  is_open  \\\n",
       "0  33.330690 -111.978599    4.0            22        1   \n",
       "1  40.291685  -80.104900    3.0            11        1   \n",
       "2  33.524903 -112.115310    1.5            18        1   \n",
       "3  33.383147 -111.964725    3.0             9        0   \n",
       "4  41.119535  -81.475690    3.5           116        1   \n",
       "\n",
       "                                          categories  \n",
       "0  Dentists;General Dentistry;Health & Medical;Or...  \n",
       "1  Hair Stylists;Hair Salons;Men's Hair Salons;Bl...  \n",
       "2  Departments of Motor Vehicles;Public Services ...  \n",
       "3                            Sporting Goods;Shopping  \n",
       "4  American (New);Nightlife;Bars;Sandwiches;Ameri...  "
      ]
     },
     "execution_count": 16,
     "metadata": {},
     "output_type": "execute_result"
    }
   ],
   "source": [
    "#df_business cleaning\n",
    "df_business.head()"
   ]
  },
  {
   "cell_type": "code",
   "execution_count": 17,
   "metadata": {},
   "outputs": [
    {
     "data": {
      "text/plain": [
       "(174567, 13)"
      ]
     },
     "execution_count": 17,
     "metadata": {},
     "output_type": "execute_result"
    }
   ],
   "source": [
    "df_business.shape"
   ]
  },
  {
   "cell_type": "code",
   "execution_count": 18,
   "metadata": {},
   "outputs": [
    {
     "data": {
      "text/plain": [
       "business_id          0\n",
       "name                 0\n",
       "neighborhood    106552\n",
       "address              0\n",
       "city                 1\n",
       "state                1\n",
       "postal_code        623\n",
       "latitude             1\n",
       "longitude            1\n",
       "stars                0\n",
       "review_count         0\n",
       "is_open              0\n",
       "categories           0\n",
       "dtype: int64"
      ]
     },
     "execution_count": 18,
     "metadata": {},
     "output_type": "execute_result"
    }
   ],
   "source": [
    "df_business.isna().sum()"
   ]
  },
  {
   "cell_type": "code",
   "execution_count": 19,
   "metadata": {},
   "outputs": [],
   "source": [
    "df_business['neighborhood'].fillna('Unknown', inplace=True)\n",
    "df_business['postal_code'].fillna('Unknown', inplace=True)\n",
    "df_business['city'].fillna('Unknown', inplace=True)\n",
    "df_business['state'].fillna('Unknown', inplace=True)\n",
    "df_business['latitude'].fillna('Unknown', inplace=True)\n",
    "df_business['longitude'].fillna('Unknown', inplace=True)"
   ]
  },
  {
   "cell_type": "code",
   "execution_count": 20,
   "metadata": {},
   "outputs": [
    {
     "data": {
      "text/plain": [
       "business_id     0\n",
       "name            0\n",
       "neighborhood    0\n",
       "address         0\n",
       "city            0\n",
       "state           0\n",
       "postal_code     0\n",
       "latitude        0\n",
       "longitude       0\n",
       "stars           0\n",
       "review_count    0\n",
       "is_open         0\n",
       "categories      0\n",
       "dtype: int64"
      ]
     },
     "execution_count": 20,
     "metadata": {},
     "output_type": "execute_result"
    }
   ],
   "source": [
    "df_business.isna().sum()"
   ]
  },
  {
   "cell_type": "code",
   "execution_count": 21,
   "metadata": {},
   "outputs": [
    {
     "data": {
      "text/plain": [
       "0"
      ]
     },
     "execution_count": 21,
     "metadata": {},
     "output_type": "execute_result"
    }
   ],
   "source": [
    "df_business.duplicated().sum()"
   ]
  },
  {
   "cell_type": "code",
   "execution_count": 22,
   "metadata": {},
   "outputs": [
    {
     "data": {
      "text/html": [
       "<div>\n",
       "<style scoped>\n",
       "    .dataframe tbody tr th:only-of-type {\n",
       "        vertical-align: middle;\n",
       "    }\n",
       "\n",
       "    .dataframe tbody tr th {\n",
       "        vertical-align: top;\n",
       "    }\n",
       "\n",
       "    .dataframe thead th {\n",
       "        text-align: right;\n",
       "    }\n",
       "</style>\n",
       "<table border=\"1\" class=\"dataframe\">\n",
       "  <thead>\n",
       "    <tr style=\"text-align: right;\">\n",
       "      <th></th>\n",
       "      <th>business_id</th>\n",
       "      <th>monday</th>\n",
       "      <th>tuesday</th>\n",
       "      <th>wednesday</th>\n",
       "      <th>thursday</th>\n",
       "      <th>friday</th>\n",
       "      <th>saturday</th>\n",
       "      <th>sunday</th>\n",
       "    </tr>\n",
       "  </thead>\n",
       "  <tbody>\n",
       "    <tr>\n",
       "      <th>0</th>\n",
       "      <td>FYWN1wneV18bWNgQjJ2GNg</td>\n",
       "      <td>7:30-17:0</td>\n",
       "      <td>7:30-17:0</td>\n",
       "      <td>7:30-17:0</td>\n",
       "      <td>7:30-17:0</td>\n",
       "      <td>7:30-17:0</td>\n",
       "      <td>None</td>\n",
       "      <td>None</td>\n",
       "    </tr>\n",
       "    <tr>\n",
       "      <th>1</th>\n",
       "      <td>He-G7vWjzVUysIKrfNbPUQ</td>\n",
       "      <td>9:0-20:0</td>\n",
       "      <td>9:0-20:0</td>\n",
       "      <td>9:0-20:0</td>\n",
       "      <td>9:0-20:0</td>\n",
       "      <td>9:0-16:0</td>\n",
       "      <td>8:0-16:0</td>\n",
       "      <td>None</td>\n",
       "    </tr>\n",
       "    <tr>\n",
       "      <th>2</th>\n",
       "      <td>KQPW8lFf1y5BT2MxiSZ3QA</td>\n",
       "      <td>None</td>\n",
       "      <td>None</td>\n",
       "      <td>None</td>\n",
       "      <td>None</td>\n",
       "      <td>None</td>\n",
       "      <td>None</td>\n",
       "      <td>None</td>\n",
       "    </tr>\n",
       "    <tr>\n",
       "      <th>3</th>\n",
       "      <td>8DShNS-LuFqpEWIp0HxijA</td>\n",
       "      <td>10:0-21:0</td>\n",
       "      <td>10:0-21:0</td>\n",
       "      <td>10:0-21:0</td>\n",
       "      <td>10:0-21:0</td>\n",
       "      <td>10:0-21:0</td>\n",
       "      <td>10:0-21:0</td>\n",
       "      <td>11:0-19:0</td>\n",
       "    </tr>\n",
       "    <tr>\n",
       "      <th>4</th>\n",
       "      <td>PfOCPjBrlQAnz__NXj9h_w</td>\n",
       "      <td>11:0-1:0</td>\n",
       "      <td>11:0-1:0</td>\n",
       "      <td>11:0-1:0</td>\n",
       "      <td>11:0-1:0</td>\n",
       "      <td>11:0-1:0</td>\n",
       "      <td>11:0-2:0</td>\n",
       "      <td>11:0-0:0</td>\n",
       "    </tr>\n",
       "  </tbody>\n",
       "</table>\n",
       "</div>"
      ],
      "text/plain": [
       "              business_id     monday    tuesday  wednesday   thursday  \\\n",
       "0  FYWN1wneV18bWNgQjJ2GNg  7:30-17:0  7:30-17:0  7:30-17:0  7:30-17:0   \n",
       "1  He-G7vWjzVUysIKrfNbPUQ   9:0-20:0   9:0-20:0   9:0-20:0   9:0-20:0   \n",
       "2  KQPW8lFf1y5BT2MxiSZ3QA       None       None       None       None   \n",
       "3  8DShNS-LuFqpEWIp0HxijA  10:0-21:0  10:0-21:0  10:0-21:0  10:0-21:0   \n",
       "4  PfOCPjBrlQAnz__NXj9h_w   11:0-1:0   11:0-1:0   11:0-1:0   11:0-1:0   \n",
       "\n",
       "      friday   saturday     sunday  \n",
       "0  7:30-17:0       None       None  \n",
       "1   9:0-16:0   8:0-16:0       None  \n",
       "2       None       None       None  \n",
       "3  10:0-21:0  10:0-21:0  11:0-19:0  \n",
       "4   11:0-1:0   11:0-2:0   11:0-0:0  "
      ]
     },
     "execution_count": 22,
     "metadata": {},
     "output_type": "execute_result"
    }
   ],
   "source": [
    "#df_businesshours cleaning\n",
    "df_businesshours.head()"
   ]
  },
  {
   "cell_type": "code",
   "execution_count": 23,
   "metadata": {},
   "outputs": [
    {
     "data": {
      "text/plain": [
       "(174567, 8)"
      ]
     },
     "execution_count": 23,
     "metadata": {},
     "output_type": "execute_result"
    }
   ],
   "source": [
    "df_businesshours.shape"
   ]
  },
  {
   "cell_type": "code",
   "execution_count": 24,
   "metadata": {},
   "outputs": [
    {
     "data": {
      "text/plain": [
       "business_id    0\n",
       "monday         0\n",
       "tuesday        0\n",
       "wednesday      0\n",
       "thursday       0\n",
       "friday         0\n",
       "saturday       0\n",
       "sunday         0\n",
       "dtype: int64"
      ]
     },
     "execution_count": 24,
     "metadata": {},
     "output_type": "execute_result"
    }
   ],
   "source": [
    "df_businesshours.isna().sum()"
   ]
  },
  {
   "cell_type": "code",
   "execution_count": 25,
   "metadata": {},
   "outputs": [
    {
     "data": {
      "text/plain": [
       "0"
      ]
     },
     "execution_count": 25,
     "metadata": {},
     "output_type": "execute_result"
    }
   ],
   "source": [
    "df_businesshours.duplicated().sum()"
   ]
  },
  {
   "cell_type": "code",
   "execution_count": 26,
   "metadata": {},
   "outputs": [
    {
     "data": {
      "text/html": [
       "<div>\n",
       "<style scoped>\n",
       "    .dataframe tbody tr th:only-of-type {\n",
       "        vertical-align: middle;\n",
       "    }\n",
       "\n",
       "    .dataframe tbody tr th {\n",
       "        vertical-align: top;\n",
       "    }\n",
       "\n",
       "    .dataframe thead th {\n",
       "        text-align: right;\n",
       "    }\n",
       "</style>\n",
       "<table border=\"1\" class=\"dataframe\">\n",
       "  <thead>\n",
       "    <tr style=\"text-align: right;\">\n",
       "      <th></th>\n",
       "      <th>user_id</th>\n",
       "      <th>name</th>\n",
       "      <th>review_count</th>\n",
       "      <th>yelping_since</th>\n",
       "      <th>friends</th>\n",
       "      <th>useful</th>\n",
       "      <th>funny</th>\n",
       "      <th>cool</th>\n",
       "      <th>fans</th>\n",
       "      <th>elite</th>\n",
       "      <th>...</th>\n",
       "      <th>compliment_more</th>\n",
       "      <th>compliment_profile</th>\n",
       "      <th>compliment_cute</th>\n",
       "      <th>compliment_list</th>\n",
       "      <th>compliment_note</th>\n",
       "      <th>compliment_plain</th>\n",
       "      <th>compliment_cool</th>\n",
       "      <th>compliment_funny</th>\n",
       "      <th>compliment_writer</th>\n",
       "      <th>compliment_photos</th>\n",
       "    </tr>\n",
       "  </thead>\n",
       "  <tbody>\n",
       "    <tr>\n",
       "      <th>0</th>\n",
       "      <td>JJ-aSuM4pCFPdkfoZ34q0Q</td>\n",
       "      <td>Chris</td>\n",
       "      <td>10</td>\n",
       "      <td>2013-09-24</td>\n",
       "      <td>0njfJmB-7n84DlIgUByCNw, rFn3Xe3RqHxRSxWOU19Gpg...</td>\n",
       "      <td>0</td>\n",
       "      <td>0</td>\n",
       "      <td>0</td>\n",
       "      <td>0</td>\n",
       "      <td>None</td>\n",
       "      <td>...</td>\n",
       "      <td>0</td>\n",
       "      <td>0</td>\n",
       "      <td>0</td>\n",
       "      <td>0</td>\n",
       "      <td>0</td>\n",
       "      <td>0</td>\n",
       "      <td>0</td>\n",
       "      <td>0</td>\n",
       "      <td>0</td>\n",
       "      <td>0</td>\n",
       "    </tr>\n",
       "    <tr>\n",
       "      <th>1</th>\n",
       "      <td>uUzsFQn_6cXDh6rPNGbIFA</td>\n",
       "      <td>Tiffy</td>\n",
       "      <td>1</td>\n",
       "      <td>2017-03-02</td>\n",
       "      <td>None</td>\n",
       "      <td>0</td>\n",
       "      <td>0</td>\n",
       "      <td>0</td>\n",
       "      <td>0</td>\n",
       "      <td>None</td>\n",
       "      <td>...</td>\n",
       "      <td>0</td>\n",
       "      <td>0</td>\n",
       "      <td>0</td>\n",
       "      <td>0</td>\n",
       "      <td>0</td>\n",
       "      <td>0</td>\n",
       "      <td>0</td>\n",
       "      <td>0</td>\n",
       "      <td>0</td>\n",
       "      <td>0</td>\n",
       "    </tr>\n",
       "    <tr>\n",
       "      <th>2</th>\n",
       "      <td>mBneaEEH5EMyxaVyqS-72A</td>\n",
       "      <td>Mark</td>\n",
       "      <td>6</td>\n",
       "      <td>2015-03-13</td>\n",
       "      <td>None</td>\n",
       "      <td>0</td>\n",
       "      <td>0</td>\n",
       "      <td>0</td>\n",
       "      <td>0</td>\n",
       "      <td>None</td>\n",
       "      <td>...</td>\n",
       "      <td>0</td>\n",
       "      <td>0</td>\n",
       "      <td>0</td>\n",
       "      <td>0</td>\n",
       "      <td>0</td>\n",
       "      <td>0</td>\n",
       "      <td>0</td>\n",
       "      <td>0</td>\n",
       "      <td>0</td>\n",
       "      <td>0</td>\n",
       "    </tr>\n",
       "    <tr>\n",
       "      <th>3</th>\n",
       "      <td>W5mJGs-dcDWRGEhAzUYtoA</td>\n",
       "      <td>Evelyn</td>\n",
       "      <td>3</td>\n",
       "      <td>2016-09-08</td>\n",
       "      <td>None</td>\n",
       "      <td>0</td>\n",
       "      <td>0</td>\n",
       "      <td>0</td>\n",
       "      <td>0</td>\n",
       "      <td>None</td>\n",
       "      <td>...</td>\n",
       "      <td>0</td>\n",
       "      <td>0</td>\n",
       "      <td>0</td>\n",
       "      <td>0</td>\n",
       "      <td>0</td>\n",
       "      <td>0</td>\n",
       "      <td>0</td>\n",
       "      <td>0</td>\n",
       "      <td>0</td>\n",
       "      <td>0</td>\n",
       "    </tr>\n",
       "    <tr>\n",
       "      <th>4</th>\n",
       "      <td>4E8--zUZO1Rr1IBK4_83fg</td>\n",
       "      <td>Lisa</td>\n",
       "      <td>11</td>\n",
       "      <td>2012-07-16</td>\n",
       "      <td>None</td>\n",
       "      <td>4</td>\n",
       "      <td>0</td>\n",
       "      <td>0</td>\n",
       "      <td>0</td>\n",
       "      <td>None</td>\n",
       "      <td>...</td>\n",
       "      <td>0</td>\n",
       "      <td>0</td>\n",
       "      <td>0</td>\n",
       "      <td>0</td>\n",
       "      <td>0</td>\n",
       "      <td>0</td>\n",
       "      <td>0</td>\n",
       "      <td>0</td>\n",
       "      <td>1</td>\n",
       "      <td>0</td>\n",
       "    </tr>\n",
       "  </tbody>\n",
       "</table>\n",
       "<p>5 rows × 22 columns</p>\n",
       "</div>"
      ],
      "text/plain": [
       "                  user_id    name  review_count yelping_since  \\\n",
       "0  JJ-aSuM4pCFPdkfoZ34q0Q   Chris            10    2013-09-24   \n",
       "1  uUzsFQn_6cXDh6rPNGbIFA   Tiffy             1    2017-03-02   \n",
       "2  mBneaEEH5EMyxaVyqS-72A    Mark             6    2015-03-13   \n",
       "3  W5mJGs-dcDWRGEhAzUYtoA  Evelyn             3    2016-09-08   \n",
       "4  4E8--zUZO1Rr1IBK4_83fg    Lisa            11    2012-07-16   \n",
       "\n",
       "                                             friends  useful  funny  cool  \\\n",
       "0  0njfJmB-7n84DlIgUByCNw, rFn3Xe3RqHxRSxWOU19Gpg...       0      0     0   \n",
       "1                                               None       0      0     0   \n",
       "2                                               None       0      0     0   \n",
       "3                                               None       0      0     0   \n",
       "4                                               None       4      0     0   \n",
       "\n",
       "   fans elite  ...  compliment_more  compliment_profile  compliment_cute  \\\n",
       "0     0  None  ...                0                   0                0   \n",
       "1     0  None  ...                0                   0                0   \n",
       "2     0  None  ...                0                   0                0   \n",
       "3     0  None  ...                0                   0                0   \n",
       "4     0  None  ...                0                   0                0   \n",
       "\n",
       "   compliment_list  compliment_note  compliment_plain  compliment_cool  \\\n",
       "0                0                0                 0                0   \n",
       "1                0                0                 0                0   \n",
       "2                0                0                 0                0   \n",
       "3                0                0                 0                0   \n",
       "4                0                0                 0                0   \n",
       "\n",
       "   compliment_funny  compliment_writer  compliment_photos  \n",
       "0                 0                  0                  0  \n",
       "1                 0                  0                  0  \n",
       "2                 0                  0                  0  \n",
       "3                 0                  0                  0  \n",
       "4                 0                  1                  0  \n",
       "\n",
       "[5 rows x 22 columns]"
      ]
     },
     "execution_count": 26,
     "metadata": {},
     "output_type": "execute_result"
    }
   ],
   "source": [
    "#df_user cleaning\n",
    "df_user.head()"
   ]
  },
  {
   "cell_type": "code",
   "execution_count": 27,
   "metadata": {},
   "outputs": [
    {
     "data": {
      "text/plain": [
       "user_id                 0\n",
       "name                  497\n",
       "review_count            0\n",
       "yelping_since           0\n",
       "friends                 0\n",
       "useful                  0\n",
       "funny                   0\n",
       "cool                    0\n",
       "fans                    0\n",
       "elite                   0\n",
       "average_stars           0\n",
       "compliment_hot          0\n",
       "compliment_more         0\n",
       "compliment_profile      0\n",
       "compliment_cute         0\n",
       "compliment_list         0\n",
       "compliment_note         0\n",
       "compliment_plain        0\n",
       "compliment_cool         0\n",
       "compliment_funny        0\n",
       "compliment_writer       0\n",
       "compliment_photos       0\n",
       "dtype: int64"
      ]
     },
     "execution_count": 27,
     "metadata": {},
     "output_type": "execute_result"
    }
   ],
   "source": [
    "df_user.isna().sum()"
   ]
  },
  {
   "cell_type": "code",
   "execution_count": 28,
   "metadata": {},
   "outputs": [],
   "source": [
    "df_user['name'] = df_user['name'].fillna('None')"
   ]
  },
  {
   "cell_type": "code",
   "execution_count": 30,
   "metadata": {},
   "outputs": [
    {
     "data": {
      "text/plain": [
       "user_id               0\n",
       "name                  0\n",
       "review_count          0\n",
       "yelping_since         0\n",
       "friends               0\n",
       "useful                0\n",
       "funny                 0\n",
       "cool                  0\n",
       "fans                  0\n",
       "elite                 0\n",
       "average_stars         0\n",
       "compliment_hot        0\n",
       "compliment_more       0\n",
       "compliment_profile    0\n",
       "compliment_cute       0\n",
       "compliment_list       0\n",
       "compliment_note       0\n",
       "compliment_plain      0\n",
       "compliment_cool       0\n",
       "compliment_funny      0\n",
       "compliment_writer     0\n",
       "compliment_photos     0\n",
       "dtype: int64"
      ]
     },
     "execution_count": 30,
     "metadata": {},
     "output_type": "execute_result"
    }
   ],
   "source": [
    "df_user.isna().sum()"
   ]
  },
  {
   "cell_type": "code",
   "execution_count": 29,
   "metadata": {},
   "outputs": [
    {
     "data": {
      "text/plain": [
       "0"
      ]
     },
     "execution_count": 29,
     "metadata": {},
     "output_type": "execute_result"
    }
   ],
   "source": [
    "df_user.duplicated().sum()"
   ]
  },
  {
   "cell_type": "code",
   "execution_count": 31,
   "metadata": {},
   "outputs": [
    {
     "data": {
      "text/html": [
       "<div>\n",
       "<style scoped>\n",
       "    .dataframe tbody tr th:only-of-type {\n",
       "        vertical-align: middle;\n",
       "    }\n",
       "\n",
       "    .dataframe tbody tr th {\n",
       "        vertical-align: top;\n",
       "    }\n",
       "\n",
       "    .dataframe thead th {\n",
       "        text-align: right;\n",
       "    }\n",
       "</style>\n",
       "<table border=\"1\" class=\"dataframe\">\n",
       "  <thead>\n",
       "    <tr style=\"text-align: right;\">\n",
       "      <th></th>\n",
       "      <th>business_id</th>\n",
       "      <th>name</th>\n",
       "      <th>neighborhood</th>\n",
       "      <th>address</th>\n",
       "      <th>city</th>\n",
       "      <th>state</th>\n",
       "      <th>postal_code</th>\n",
       "      <th>latitude</th>\n",
       "      <th>longitude</th>\n",
       "      <th>stars</th>\n",
       "      <th>review_count</th>\n",
       "      <th>is_open</th>\n",
       "      <th>categories</th>\n",
       "      <th>monday</th>\n",
       "      <th>tuesday</th>\n",
       "      <th>wednesday</th>\n",
       "      <th>thursday</th>\n",
       "      <th>friday</th>\n",
       "      <th>saturday</th>\n",
       "      <th>sunday</th>\n",
       "    </tr>\n",
       "  </thead>\n",
       "  <tbody>\n",
       "    <tr>\n",
       "      <th>0</th>\n",
       "      <td>FYWN1wneV18bWNgQjJ2GNg</td>\n",
       "      <td>\"Dental by Design\"</td>\n",
       "      <td>Unknown</td>\n",
       "      <td>\"4855 E Warner Rd, Ste B9\"</td>\n",
       "      <td>Ahwatukee</td>\n",
       "      <td>AZ</td>\n",
       "      <td>85044</td>\n",
       "      <td>33.33069</td>\n",
       "      <td>-111.978599</td>\n",
       "      <td>4.0</td>\n",
       "      <td>22</td>\n",
       "      <td>1</td>\n",
       "      <td>Dentists;General Dentistry;Health &amp; Medical;Or...</td>\n",
       "      <td>7:30-17:0</td>\n",
       "      <td>7:30-17:0</td>\n",
       "      <td>7:30-17:0</td>\n",
       "      <td>7:30-17:0</td>\n",
       "      <td>7:30-17:0</td>\n",
       "      <td>None</td>\n",
       "      <td>None</td>\n",
       "    </tr>\n",
       "    <tr>\n",
       "      <th>1</th>\n",
       "      <td>He-G7vWjzVUysIKrfNbPUQ</td>\n",
       "      <td>\"Stephen Szabo Salon\"</td>\n",
       "      <td>Unknown</td>\n",
       "      <td>\"3101 Washington Rd\"</td>\n",
       "      <td>McMurray</td>\n",
       "      <td>PA</td>\n",
       "      <td>15317</td>\n",
       "      <td>40.291685</td>\n",
       "      <td>-80.1049</td>\n",
       "      <td>3.0</td>\n",
       "      <td>11</td>\n",
       "      <td>1</td>\n",
       "      <td>Hair Stylists;Hair Salons;Men's Hair Salons;Bl...</td>\n",
       "      <td>9:0-20:0</td>\n",
       "      <td>9:0-20:0</td>\n",
       "      <td>9:0-20:0</td>\n",
       "      <td>9:0-20:0</td>\n",
       "      <td>9:0-16:0</td>\n",
       "      <td>8:0-16:0</td>\n",
       "      <td>None</td>\n",
       "    </tr>\n",
       "    <tr>\n",
       "      <th>2</th>\n",
       "      <td>KQPW8lFf1y5BT2MxiSZ3QA</td>\n",
       "      <td>\"Western Motor Vehicle\"</td>\n",
       "      <td>Unknown</td>\n",
       "      <td>\"6025 N 27th Ave, Ste 1\"</td>\n",
       "      <td>Phoenix</td>\n",
       "      <td>AZ</td>\n",
       "      <td>85017</td>\n",
       "      <td>33.524903</td>\n",
       "      <td>-112.11531</td>\n",
       "      <td>1.5</td>\n",
       "      <td>18</td>\n",
       "      <td>1</td>\n",
       "      <td>Departments of Motor Vehicles;Public Services ...</td>\n",
       "      <td>None</td>\n",
       "      <td>None</td>\n",
       "      <td>None</td>\n",
       "      <td>None</td>\n",
       "      <td>None</td>\n",
       "      <td>None</td>\n",
       "      <td>None</td>\n",
       "    </tr>\n",
       "    <tr>\n",
       "      <th>3</th>\n",
       "      <td>8DShNS-LuFqpEWIp0HxijA</td>\n",
       "      <td>\"Sports Authority\"</td>\n",
       "      <td>Unknown</td>\n",
       "      <td>\"5000 Arizona Mills Cr, Ste 435\"</td>\n",
       "      <td>Tempe</td>\n",
       "      <td>AZ</td>\n",
       "      <td>85282</td>\n",
       "      <td>33.383147</td>\n",
       "      <td>-111.964725</td>\n",
       "      <td>3.0</td>\n",
       "      <td>9</td>\n",
       "      <td>0</td>\n",
       "      <td>Sporting Goods;Shopping</td>\n",
       "      <td>10:0-21:0</td>\n",
       "      <td>10:0-21:0</td>\n",
       "      <td>10:0-21:0</td>\n",
       "      <td>10:0-21:0</td>\n",
       "      <td>10:0-21:0</td>\n",
       "      <td>10:0-21:0</td>\n",
       "      <td>11:0-19:0</td>\n",
       "    </tr>\n",
       "    <tr>\n",
       "      <th>4</th>\n",
       "      <td>PfOCPjBrlQAnz__NXj9h_w</td>\n",
       "      <td>\"Brick House Tavern + Tap\"</td>\n",
       "      <td>Unknown</td>\n",
       "      <td>\"581 Howe Ave\"</td>\n",
       "      <td>Cuyahoga Falls</td>\n",
       "      <td>OH</td>\n",
       "      <td>44221</td>\n",
       "      <td>41.119535</td>\n",
       "      <td>-81.47569</td>\n",
       "      <td>3.5</td>\n",
       "      <td>116</td>\n",
       "      <td>1</td>\n",
       "      <td>American (New);Nightlife;Bars;Sandwiches;Ameri...</td>\n",
       "      <td>11:0-1:0</td>\n",
       "      <td>11:0-1:0</td>\n",
       "      <td>11:0-1:0</td>\n",
       "      <td>11:0-1:0</td>\n",
       "      <td>11:0-1:0</td>\n",
       "      <td>11:0-2:0</td>\n",
       "      <td>11:0-0:0</td>\n",
       "    </tr>\n",
       "  </tbody>\n",
       "</table>\n",
       "</div>"
      ],
      "text/plain": [
       "              business_id                        name neighborhood  \\\n",
       "0  FYWN1wneV18bWNgQjJ2GNg          \"Dental by Design\"      Unknown   \n",
       "1  He-G7vWjzVUysIKrfNbPUQ       \"Stephen Szabo Salon\"      Unknown   \n",
       "2  KQPW8lFf1y5BT2MxiSZ3QA     \"Western Motor Vehicle\"      Unknown   \n",
       "3  8DShNS-LuFqpEWIp0HxijA          \"Sports Authority\"      Unknown   \n",
       "4  PfOCPjBrlQAnz__NXj9h_w  \"Brick House Tavern + Tap\"      Unknown   \n",
       "\n",
       "                            address            city state postal_code  \\\n",
       "0        \"4855 E Warner Rd, Ste B9\"       Ahwatukee    AZ       85044   \n",
       "1              \"3101 Washington Rd\"        McMurray    PA       15317   \n",
       "2          \"6025 N 27th Ave, Ste 1\"         Phoenix    AZ       85017   \n",
       "3  \"5000 Arizona Mills Cr, Ste 435\"           Tempe    AZ       85282   \n",
       "4                    \"581 Howe Ave\"  Cuyahoga Falls    OH       44221   \n",
       "\n",
       "    latitude   longitude  stars  review_count  is_open  \\\n",
       "0   33.33069 -111.978599    4.0            22        1   \n",
       "1  40.291685    -80.1049    3.0            11        1   \n",
       "2  33.524903  -112.11531    1.5            18        1   \n",
       "3  33.383147 -111.964725    3.0             9        0   \n",
       "4  41.119535   -81.47569    3.5           116        1   \n",
       "\n",
       "                                          categories     monday    tuesday  \\\n",
       "0  Dentists;General Dentistry;Health & Medical;Or...  7:30-17:0  7:30-17:0   \n",
       "1  Hair Stylists;Hair Salons;Men's Hair Salons;Bl...   9:0-20:0   9:0-20:0   \n",
       "2  Departments of Motor Vehicles;Public Services ...       None       None   \n",
       "3                            Sporting Goods;Shopping  10:0-21:0  10:0-21:0   \n",
       "4  American (New);Nightlife;Bars;Sandwiches;Ameri...   11:0-1:0   11:0-1:0   \n",
       "\n",
       "   wednesday   thursday     friday   saturday     sunday  \n",
       "0  7:30-17:0  7:30-17:0  7:30-17:0       None       None  \n",
       "1   9:0-20:0   9:0-20:0   9:0-16:0   8:0-16:0       None  \n",
       "2       None       None       None       None       None  \n",
       "3  10:0-21:0  10:0-21:0  10:0-21:0  10:0-21:0  11:0-19:0  \n",
       "4   11:0-1:0   11:0-1:0   11:0-1:0   11:0-2:0   11:0-0:0  "
      ]
     },
     "execution_count": 31,
     "metadata": {},
     "output_type": "execute_result"
    }
   ],
   "source": [
    "#Datasets merge (business & businesshours)\n",
    "merged_data = pd.merge(df_business, df_businesshours, on='business_id', how='inner')\n",
    "merged_data.head()\n"
   ]
  },
  {
   "cell_type": "code",
   "execution_count": 32,
   "metadata": {},
   "outputs": [
    {
     "data": {
      "text/plain": [
       "(174567, 20)"
      ]
     },
     "execution_count": 32,
     "metadata": {},
     "output_type": "execute_result"
    }
   ],
   "source": [
    "merged_data.shape"
   ]
  },
  {
   "cell_type": "code",
   "execution_count": 33,
   "metadata": {},
   "outputs": [
    {
     "data": {
      "text/plain": [
       "business_id     0\n",
       "name            0\n",
       "neighborhood    0\n",
       "address         0\n",
       "city            0\n",
       "state           0\n",
       "postal_code     0\n",
       "latitude        0\n",
       "longitude       0\n",
       "stars           0\n",
       "review_count    0\n",
       "is_open         0\n",
       "categories      0\n",
       "monday          0\n",
       "tuesday         0\n",
       "wednesday       0\n",
       "thursday        0\n",
       "friday          0\n",
       "saturday        0\n",
       "sunday          0\n",
       "dtype: int64"
      ]
     },
     "execution_count": 33,
     "metadata": {},
     "output_type": "execute_result"
    }
   ],
   "source": [
    "merged_data.isnull().sum()"
   ]
  },
  {
   "cell_type": "code",
   "execution_count": 35,
   "metadata": {},
   "outputs": [
    {
     "data": {
      "text/plain": [
       "0"
      ]
     },
     "execution_count": 35,
     "metadata": {},
     "output_type": "execute_result"
    }
   ],
   "source": [
    "merged_data.duplicated().sum()"
   ]
  },
  {
   "cell_type": "code",
   "execution_count": 36,
   "metadata": {},
   "outputs": [
    {
     "name": "stderr",
     "output_type": "stream",
     "text": [
      "/var/folders/gt/kg06ygw94_31t4c66mzrq6lh0000gn/T/ipykernel_27839/3359586816.py:4: SettingWithCopyWarning: \n",
      "A value is trying to be set on a copy of a slice from a DataFrame.\n",
      "Try using .loc[row_indexer,col_indexer] = value instead\n",
      "\n",
      "See the caveats in the documentation: https://pandas.pydata.org/pandas-docs/stable/user_guide/indexing.html#returning-a-view-versus-a-copy\n",
      "  normal_users['yelping_since'] = pd.to_datetime(normal_users['yelping_since'])\n",
      "/var/folders/gt/kg06ygw94_31t4c66mzrq6lh0000gn/T/ipykernel_27839/3359586816.py:7: SettingWithCopyWarning: \n",
      "A value is trying to be set on a copy of a slice from a DataFrame.\n",
      "Try using .loc[row_indexer,col_indexer] = value instead\n",
      "\n",
      "See the caveats in the documentation: https://pandas.pydata.org/pandas-docs/stable/user_guide/indexing.html#returning-a-view-versus-a-copy\n",
      "  normal_users['month_since_creation'] = (current_date - normal_users['yelping_since']).dt.days/30\n",
      "/var/folders/gt/kg06ygw94_31t4c66mzrq6lh0000gn/T/ipykernel_27839/3359586816.py:9: SettingWithCopyWarning: \n",
      "A value is trying to be set on a copy of a slice from a DataFrame.\n",
      "Try using .loc[row_indexer,col_indexer] = value instead\n",
      "\n",
      "See the caveats in the documentation: https://pandas.pydata.org/pandas-docs/stable/user_guide/indexing.html#returning-a-view-versus-a-copy\n",
      "  normal_users['average_reviews_per_month'] = normal_users['review_count'] / normal_users['month_since_creation']\n"
     ]
    },
    {
     "data": {
      "text/plain": [
       "0.09845330430892699"
      ]
     },
     "execution_count": 36,
     "metadata": {},
     "output_type": "execute_result"
    }
   ],
   "source": [
    "#Analysis\n",
    "#普通用户从创建账号以来平均每个月发多少评论?\n",
    "normal_users = df_user[df_user['elite'] == 'None']\n",
    "normal_users['yelping_since'] = pd.to_datetime(normal_users['yelping_since'])\n",
    "\n",
    "current_date = pd.Timestamp.now()\n",
    "normal_users['month_since_creation'] = (current_date - normal_users['yelping_since']).dt.days/30\n",
    "\n",
    "normal_users['average_reviews_per_month'] = normal_users['review_count'] / normal_users['month_since_creation']\n",
    "\n",
    "average_reviews_per_month_normal = normal_users['average_reviews_per_month'].mean()\n",
    "average_reviews_per_month_normal\n"
   ]
  },
  {
   "cell_type": "code",
   "execution_count": 37,
   "metadata": {},
   "outputs": [
    {
     "name": "stderr",
     "output_type": "stream",
     "text": [
      "/var/folders/gt/kg06ygw94_31t4c66mzrq6lh0000gn/T/ipykernel_27839/3396233534.py:3: SettingWithCopyWarning: \n",
      "A value is trying to be set on a copy of a slice from a DataFrame.\n",
      "Try using .loc[row_indexer,col_indexer] = value instead\n",
      "\n",
      "See the caveats in the documentation: https://pandas.pydata.org/pandas-docs/stable/user_guide/indexing.html#returning-a-view-versus-a-copy\n",
      "  elite_users['yelping_since'] = pd.to_datetime(elite_users['yelping_since'])\n",
      "/var/folders/gt/kg06ygw94_31t4c66mzrq6lh0000gn/T/ipykernel_27839/3396233534.py:6: SettingWithCopyWarning: \n",
      "A value is trying to be set on a copy of a slice from a DataFrame.\n",
      "Try using .loc[row_indexer,col_indexer] = value instead\n",
      "\n",
      "See the caveats in the documentation: https://pandas.pydata.org/pandas-docs/stable/user_guide/indexing.html#returning-a-view-versus-a-copy\n",
      "  elite_users['month_since_creation'] = (current_date - elite_users['yelping_since']).dt.days/30\n",
      "/var/folders/gt/kg06ygw94_31t4c66mzrq6lh0000gn/T/ipykernel_27839/3396233534.py:8: SettingWithCopyWarning: \n",
      "A value is trying to be set on a copy of a slice from a DataFrame.\n",
      "Try using .loc[row_indexer,col_indexer] = value instead\n",
      "\n",
      "See the caveats in the documentation: https://pandas.pydata.org/pandas-docs/stable/user_guide/indexing.html#returning-a-view-versus-a-copy\n",
      "  elite_users['average_reviews_per_month'] = elite_users['review_count'] / elite_users['month_since_creation']\n"
     ]
    },
    {
     "data": {
      "text/plain": [
       "1.460989610017326"
      ]
     },
     "execution_count": 37,
     "metadata": {},
     "output_type": "execute_result"
    }
   ],
   "source": [
    "#精英用户平均每月发多少评论？\n",
    "elite_users = df_user[df_user['elite'] != 'None']\n",
    "elite_users['yelping_since'] = pd.to_datetime(elite_users['yelping_since'])\n",
    "\n",
    "current_date = pd.Timestamp.now()\n",
    "elite_users['month_since_creation'] = (current_date - elite_users['yelping_since']).dt.days/30\n",
    "\n",
    "elite_users['average_reviews_per_month'] = elite_users['review_count'] / elite_users['month_since_creation']\n",
    "\n",
    "average_reviews_per_month_elite = elite_users['average_reviews_per_month'].mean()\n",
    "average_reviews_per_month_elite"
   ]
  },
  {
   "cell_type": "code",
   "execution_count": 38,
   "metadata": {},
   "outputs": [
    {
     "name": "stdout",
     "output_type": "stream",
     "text": [
      "The number of total useful reviews is: 38914096\n",
      "The number of total cool reviews is: 25996163\n",
      "The number of total funny reviews is: 19376167\n",
      "The ratio of total useful reviews is: 0.4616887658755397\n",
      "The ratio of total cool reviews is: 0.30842644816853426\n",
      "The ratio of total funny reviews is: 0.22988478595592604\n"
     ]
    }
   ],
   "source": [
    "#评论被认为是useful, funny, cool的次数和比例？\n",
    "total_useful_reviews = df_user['useful'].sum()\n",
    "total_funny_reviews = df_user['funny'].sum()\n",
    "total_cool_reviews = df_user['cool'].sum()\n",
    "print(f\"The number of total useful reviews is: {total_useful_reviews}\")\n",
    "print(f\"The number of total cool reviews is: {total_cool_reviews}\")\n",
    "print(f\"The number of total funny reviews is: {total_funny_reviews}\")\n",
    "\n",
    "total_reviews = total_useful_reviews + total_funny_reviews + total_cool_reviews\n",
    "useful_ratio = total_useful_reviews / total_reviews\n",
    "funny_ratio = total_funny_reviews / total_reviews\n",
    "cool_ratio = total_cool_reviews / total_reviews\n",
    "print(f\"The ratio of total useful reviews is: {useful_ratio}\")\n",
    "print(f\"The ratio of total cool reviews is: {cool_ratio}\")\n",
    "print(f\"The ratio of total funny reviews is: {funny_ratio}\")"
   ]
  },
  {
   "cell_type": "code",
   "execution_count": 99,
   "metadata": {},
   "outputs": [
    {
     "data": {
      "image/png": "[encoded data removed]",
      "text/plain": [
       "<Figure size 500x500 with 1 Axes>"
      ]
     },
     "metadata": {},
     "output_type": "display_data"
    }
   ],
   "source": [
    "labels = 'useful','funny','cool'\n",
    "sizes = [useful_ratio, funny_ratio, cool_ratio]\n",
    "colors = ['red','blue','yellow']\n",
    "explode = (0.1, 0, 0)\n",
    "\n",
    "plt.figure(figsize=(5,5))\n",
    "plt.pie(sizes, explode=explode, labels=labels, colors=colors)\n",
    "plt.title(\"The Ratio of Useful, Funny, Cool Reviews\")\n",
    "plt.show()"
   ]
  },
  {
   "cell_type": "code",
   "execution_count": 48,
   "metadata": {},
   "outputs": [
    {
     "name": "stdout",
     "output_type": "stream",
     "text": [
      "                        user_id  average_stars\n",
      "0        JJ-aSuM4pCFPdkfoZ34q0Q           3.70\n",
      "1        uUzsFQn_6cXDh6rPNGbIFA           2.00\n",
      "2        mBneaEEH5EMyxaVyqS-72A           4.67\n",
      "3        W5mJGs-dcDWRGEhAzUYtoA           4.67\n",
      "4        4E8--zUZO1Rr1IBK4_83fg           3.45\n",
      "...                         ...            ...\n",
      "1326095  LODBIwiAcKxRi7Wz-sFsKw           5.00\n",
      "1326096  JpY2ozlb30z_AZCq2YX34g           5.00\n",
      "1326097  AU9aZSA1rAjNE5cFcZTVMA           1.85\n",
      "1326098  s1BZ7-rpqb3xRKcxvArXsQ           3.97\n",
      "1326099  q-1Tz4SvaTpGEMhI_xwm0Q           3.50\n",
      "\n",
      "[1326100 rows x 2 columns]\n"
     ]
    }
   ],
   "source": [
    "#用户评论平均分\n",
    "avg_user_ratings = df_user[['user_id','average_stars']]\n",
    "print(avg_user_ratings)\n"
   ]
  },
  {
   "cell_type": "code",
   "execution_count": 50,
   "metadata": {},
   "outputs": [
    {
     "name": "stdout",
     "output_type": "stream",
     "text": [
      "The most reviewed city is: Las Vegas, the number is: 1604173\n"
     ]
    }
   ],
   "source": [
    "#最常被用户评价的城市？\n",
    "city_reviews = df_business.groupby('city')['review_count'].sum()\n",
    "most_reviewed_city = city_reviews.idxmax()\n",
    "number_of_reviews_city = city_reviews.max()\n",
    "print(f\"The most reviewed city is: {most_reviewed_city}, the number is: {number_of_reviews_city}\")"
   ]
  },
  {
   "cell_type": "code",
   "execution_count": 100,
   "metadata": {},
   "outputs": [
    {
     "name": "stdout",
     "output_type": "stream",
     "text": [
      "1.0     3788\n",
      "1.5     4303\n",
      "2.0     9320\n",
      "2.5    16148\n",
      "3.0    23142\n",
      "3.5    32038\n",
      "4.0    33492\n",
      "4.5    24796\n",
      "5.0    27540\n",
      "Name: stars, dtype: int64\n"
     ]
    },
    {
     "data": {
      "image/png": "[encoded data removed]",
      "text/plain": [
       "<Figure size 500x500 with 1 Axes>"
      ]
     },
     "metadata": {},
     "output_type": "display_data"
    }
   ],
   "source": [
    "#各星级餐厅数量？\n",
    "restaurant_stars = df_business['stars'].value_counts().sort_index()\n",
    "print(restaurant_stars)\n",
    "plt.figure(figsize=(5,5))\n",
    "restaurant_stars.plot(kind='bar', color='blue')\n",
    "plt.title('The Number of Restaurant of Each Star Rating')\n",
    "plt.xlabel('Stars')\n",
    "plt.ylabel('Number of Restaurant')\n",
    "plt.show()"
   ]
  },
  {
   "cell_type": "code",
   "execution_count": 54,
   "metadata": {},
   "outputs": [
    {
     "data": {
      "text/plain": [
       "3.6321956612647295"
      ]
     },
     "execution_count": 54,
     "metadata": {},
     "output_type": "execute_result"
    }
   ],
   "source": [
    "#餐厅平均星级？\n",
    "average_star_rating = df_business['stars'].mean()\n",
    "average_star_rating"
   ]
  },
  {
   "cell_type": "code",
   "execution_count": 56,
   "metadata": {},
   "outputs": [
    {
     "name": "stdout",
     "output_type": "stream",
     "text": [
      "The most restaurant state is: AZ, the number is: 52214\n"
     ]
    }
   ],
   "source": [
    "#哪些州餐厅比较多？\n",
    "state_with_most_businesses = df_business['state'].value_counts().idxmax()\n",
    "number_of_businesses = df_business['state'].value_counts().max()\n",
    "print(f\"The most restaurant state is: {state_with_most_businesses}, the number is: {number_of_businesses}\")\n"
   ]
  },
  {
   "cell_type": "code",
   "execution_count": 64,
   "metadata": {},
   "outputs": [
    {
     "data": {
      "image/png": "[encoded data removed]",
      "text/plain": [
       "<Figure size 1000x1000 with 1 Axes>"
      ]
     },
     "metadata": {},
     "output_type": "display_data"
    }
   ],
   "source": [
    "#哪些州五星餐厅占比高？\n",
    "five_star_business = df_business[df_business['stars'] == 5.0]\n",
    "five_star_state = five_star_business['state'].value_counts()\n",
    "states = five_star_state.index\n",
    "counts = five_star_state.values\n",
    "\n",
    "five_star_state.plot(kind='pie', figsize=(10,10), autopct='%1.1f%%', startangle=90)\n",
    "plt.title('Which State Has the Most Number of Five Star Businesses')\n",
    "plt.show()"
   ]
  },
  {
   "cell_type": "code",
   "execution_count": 101,
   "metadata": {},
   "outputs": [
    {
     "data": {
      "image/png": "[encoded data removed]",
      "text/plain": [
       "<Figure size 500x500 with 1 Axes>"
      ]
     },
     "metadata": {},
     "output_type": "display_data"
    }
   ],
   "source": [
    "#餐厅的星级和营业天数有怎样的关系？\n",
    "days_columns = ['monday','tuesday','wednesday','thursday','friday','saturday','sunday']\n",
    "\n",
    "for day in days_columns:\n",
    "    merged_data[day] = merged_data[day] != 'None'\n",
    "    merged_data[day] = merged_data[day].astype(int)\n",
    "merged_data['total_opening_days'] = merged_data[days_columns].sum(axis=1)\n",
    "\n",
    "plt.figure(figsize=(5,5))\n",
    "plt.scatter(merged_data['stars'], merged_data['total_opening_days'])\n",
    "plt.title('The Relationship between Business Star and Opening Days')\n",
    "plt.xlabel('Star Rating')\n",
    "plt.ylabel('Opening Days')\n",
    "plt.grid(True, which=\"both\", ls=\"--\", c=\"0.7\")\n",
    "plt.show()"
   ]
  },
  {
   "cell_type": "code",
   "execution_count": 108,
   "metadata": {},
   "outputs": [
    {
     "data": {
      "text/html": [
       "<div>\n",
       "<style scoped>\n",
       "    .dataframe tbody tr th:only-of-type {\n",
       "        vertical-align: middle;\n",
       "    }\n",
       "\n",
       "    .dataframe tbody tr th {\n",
       "        vertical-align: top;\n",
       "    }\n",
       "\n",
       "    .dataframe thead th {\n",
       "        text-align: right;\n",
       "    }\n",
       "</style>\n",
       "<table border=\"1\" class=\"dataframe\">\n",
       "  <thead>\n",
       "    <tr style=\"text-align: right;\">\n",
       "      <th></th>\n",
       "      <th>business_id</th>\n",
       "      <th>name</th>\n",
       "      <th>neighborhood</th>\n",
       "      <th>address</th>\n",
       "      <th>city</th>\n",
       "      <th>state</th>\n",
       "      <th>postal_code</th>\n",
       "      <th>latitude</th>\n",
       "      <th>longitude</th>\n",
       "      <th>stars</th>\n",
       "      <th>review_count</th>\n",
       "      <th>is_open</th>\n",
       "      <th>categories</th>\n",
       "      <th>monday</th>\n",
       "      <th>tuesday</th>\n",
       "      <th>wednesday</th>\n",
       "      <th>thursday</th>\n",
       "      <th>friday</th>\n",
       "      <th>saturday</th>\n",
       "      <th>sunday</th>\n",
       "    </tr>\n",
       "  </thead>\n",
       "  <tbody>\n",
       "    <tr>\n",
       "      <th>0</th>\n",
       "      <td>FYWN1wneV18bWNgQjJ2GNg</td>\n",
       "      <td>\"Dental by Design\"</td>\n",
       "      <td>Unknown</td>\n",
       "      <td>\"4855 E Warner Rd, Ste B9\"</td>\n",
       "      <td>Ahwatukee</td>\n",
       "      <td>AZ</td>\n",
       "      <td>85044</td>\n",
       "      <td>33.33069</td>\n",
       "      <td>-111.978599</td>\n",
       "      <td>4.0</td>\n",
       "      <td>22</td>\n",
       "      <td>1</td>\n",
       "      <td>Dentists;General Dentistry;Health &amp; Medical;Or...</td>\n",
       "      <td>7:30-17:0</td>\n",
       "      <td>7:30-17:0</td>\n",
       "      <td>7:30-17:0</td>\n",
       "      <td>7:30-17:0</td>\n",
       "      <td>7:30-17:0</td>\n",
       "      <td>None</td>\n",
       "      <td>None</td>\n",
       "    </tr>\n",
       "    <tr>\n",
       "      <th>1</th>\n",
       "      <td>He-G7vWjzVUysIKrfNbPUQ</td>\n",
       "      <td>\"Stephen Szabo Salon\"</td>\n",
       "      <td>Unknown</td>\n",
       "      <td>\"3101 Washington Rd\"</td>\n",
       "      <td>McMurray</td>\n",
       "      <td>PA</td>\n",
       "      <td>15317</td>\n",
       "      <td>40.291685</td>\n",
       "      <td>-80.1049</td>\n",
       "      <td>3.0</td>\n",
       "      <td>11</td>\n",
       "      <td>1</td>\n",
       "      <td>Hair Stylists;Hair Salons;Men's Hair Salons;Bl...</td>\n",
       "      <td>9:0-20:0</td>\n",
       "      <td>9:0-20:0</td>\n",
       "      <td>9:0-20:0</td>\n",
       "      <td>9:0-20:0</td>\n",
       "      <td>9:0-16:0</td>\n",
       "      <td>8:0-16:0</td>\n",
       "      <td>None</td>\n",
       "    </tr>\n",
       "    <tr>\n",
       "      <th>2</th>\n",
       "      <td>KQPW8lFf1y5BT2MxiSZ3QA</td>\n",
       "      <td>\"Western Motor Vehicle\"</td>\n",
       "      <td>Unknown</td>\n",
       "      <td>\"6025 N 27th Ave, Ste 1\"</td>\n",
       "      <td>Phoenix</td>\n",
       "      <td>AZ</td>\n",
       "      <td>85017</td>\n",
       "      <td>33.524903</td>\n",
       "      <td>-112.11531</td>\n",
       "      <td>1.5</td>\n",
       "      <td>18</td>\n",
       "      <td>1</td>\n",
       "      <td>Departments of Motor Vehicles;Public Services ...</td>\n",
       "      <td>None</td>\n",
       "      <td>None</td>\n",
       "      <td>None</td>\n",
       "      <td>None</td>\n",
       "      <td>None</td>\n",
       "      <td>None</td>\n",
       "      <td>None</td>\n",
       "    </tr>\n",
       "    <tr>\n",
       "      <th>3</th>\n",
       "      <td>8DShNS-LuFqpEWIp0HxijA</td>\n",
       "      <td>\"Sports Authority\"</td>\n",
       "      <td>Unknown</td>\n",
       "      <td>\"5000 Arizona Mills Cr, Ste 435\"</td>\n",
       "      <td>Tempe</td>\n",
       "      <td>AZ</td>\n",
       "      <td>85282</td>\n",
       "      <td>33.383147</td>\n",
       "      <td>-111.964725</td>\n",
       "      <td>3.0</td>\n",
       "      <td>9</td>\n",
       "      <td>0</td>\n",
       "      <td>Sporting Goods;Shopping</td>\n",
       "      <td>10:0-21:0</td>\n",
       "      <td>10:0-21:0</td>\n",
       "      <td>10:0-21:0</td>\n",
       "      <td>10:0-21:0</td>\n",
       "      <td>10:0-21:0</td>\n",
       "      <td>10:0-21:0</td>\n",
       "      <td>11:0-19:0</td>\n",
       "    </tr>\n",
       "    <tr>\n",
       "      <th>4</th>\n",
       "      <td>PfOCPjBrlQAnz__NXj9h_w</td>\n",
       "      <td>\"Brick House Tavern + Tap\"</td>\n",
       "      <td>Unknown</td>\n",
       "      <td>\"581 Howe Ave\"</td>\n",
       "      <td>Cuyahoga Falls</td>\n",
       "      <td>OH</td>\n",
       "      <td>44221</td>\n",
       "      <td>41.119535</td>\n",
       "      <td>-81.47569</td>\n",
       "      <td>3.5</td>\n",
       "      <td>116</td>\n",
       "      <td>1</td>\n",
       "      <td>American (New);Nightlife;Bars;Sandwiches;Ameri...</td>\n",
       "      <td>11:0-1:0</td>\n",
       "      <td>11:0-1:0</td>\n",
       "      <td>11:0-1:0</td>\n",
       "      <td>11:0-1:0</td>\n",
       "      <td>11:0-1:0</td>\n",
       "      <td>11:0-2:0</td>\n",
       "      <td>11:0-0:0</td>\n",
       "    </tr>\n",
       "  </tbody>\n",
       "</table>\n",
       "</div>"
      ],
      "text/plain": [
       "              business_id                        name neighborhood  \\\n",
       "0  FYWN1wneV18bWNgQjJ2GNg          \"Dental by Design\"      Unknown   \n",
       "1  He-G7vWjzVUysIKrfNbPUQ       \"Stephen Szabo Salon\"      Unknown   \n",
       "2  KQPW8lFf1y5BT2MxiSZ3QA     \"Western Motor Vehicle\"      Unknown   \n",
       "3  8DShNS-LuFqpEWIp0HxijA          \"Sports Authority\"      Unknown   \n",
       "4  PfOCPjBrlQAnz__NXj9h_w  \"Brick House Tavern + Tap\"      Unknown   \n",
       "\n",
       "                            address            city state postal_code  \\\n",
       "0        \"4855 E Warner Rd, Ste B9\"       Ahwatukee    AZ       85044   \n",
       "1              \"3101 Washington Rd\"        McMurray    PA       15317   \n",
       "2          \"6025 N 27th Ave, Ste 1\"         Phoenix    AZ       85017   \n",
       "3  \"5000 Arizona Mills Cr, Ste 435\"           Tempe    AZ       85282   \n",
       "4                    \"581 Howe Ave\"  Cuyahoga Falls    OH       44221   \n",
       "\n",
       "    latitude   longitude  stars  review_count  is_open  \\\n",
       "0   33.33069 -111.978599    4.0            22        1   \n",
       "1  40.291685    -80.1049    3.0            11        1   \n",
       "2  33.524903  -112.11531    1.5            18        1   \n",
       "3  33.383147 -111.964725    3.0             9        0   \n",
       "4  41.119535   -81.47569    3.5           116        1   \n",
       "\n",
       "                                          categories     monday    tuesday  \\\n",
       "0  Dentists;General Dentistry;Health & Medical;Or...  7:30-17:0  7:30-17:0   \n",
       "1  Hair Stylists;Hair Salons;Men's Hair Salons;Bl...   9:0-20:0   9:0-20:0   \n",
       "2  Departments of Motor Vehicles;Public Services ...       None       None   \n",
       "3                            Sporting Goods;Shopping  10:0-21:0  10:0-21:0   \n",
       "4  American (New);Nightlife;Bars;Sandwiches;Ameri...   11:0-1:0   11:0-1:0   \n",
       "\n",
       "   wednesday   thursday     friday   saturday     sunday  \n",
       "0  7:30-17:0  7:30-17:0  7:30-17:0       None       None  \n",
       "1   9:0-20:0   9:0-20:0   9:0-16:0   8:0-16:0       None  \n",
       "2       None       None       None       None       None  \n",
       "3  10:0-21:0  10:0-21:0  10:0-21:0  10:0-21:0  11:0-19:0  \n",
       "4   11:0-1:0   11:0-1:0   11:0-1:0   11:0-2:0   11:0-0:0  "
      ]
     },
     "execution_count": 108,
     "metadata": {},
     "output_type": "execute_result"
    }
   ],
   "source": [
    "merged_data2 = pd.merge(df_business, df_businesshours, on='business_id', how='inner')\n",
    "merged_data2.head()"
   ]
  },
  {
   "cell_type": "code",
   "execution_count": 109,
   "metadata": {},
   "outputs": [
    {
     "data": {
      "text/plain": [
       "0              None\n",
       "1              None\n",
       "2              None\n",
       "3         11:0-19:0\n",
       "4          11:0-0:0\n",
       "            ...    \n",
       "174562         None\n",
       "174563         None\n",
       "174564         None\n",
       "174565    12:0-14:0\n",
       "174566         None\n",
       "Name: sunday, Length: 174567, dtype: object"
      ]
     },
     "execution_count": 109,
     "metadata": {},
     "output_type": "execute_result"
    }
   ],
   "source": [
    "merged_data2[day]"
   ]
  },
  {
   "cell_type": "code",
   "execution_count": 107,
   "metadata": {},
   "outputs": [
    {
     "data": {
      "text/plain": [
       "0         1\n",
       "1         1\n",
       "2         1\n",
       "3         1\n",
       "4         1\n",
       "         ..\n",
       "174562    1\n",
       "174563    1\n",
       "174564    1\n",
       "174565    1\n",
       "174566    1\n",
       "Name: sunday, Length: 174567, dtype: int64"
      ]
     },
     "execution_count": 107,
     "metadata": {},
     "output_type": "execute_result"
    }
   ],
   "source": [
    "merged_data[day]"
   ]
  },
  {
   "cell_type": "code",
   "execution_count": 103,
   "metadata": {},
   "outputs": [
    {
     "data": {
      "text/html": [
       "<div>\n",
       "<style scoped>\n",
       "    .dataframe tbody tr th:only-of-type {\n",
       "        vertical-align: middle;\n",
       "    }\n",
       "\n",
       "    .dataframe tbody tr th {\n",
       "        vertical-align: top;\n",
       "    }\n",
       "\n",
       "    .dataframe thead th {\n",
       "        text-align: right;\n",
       "    }\n",
       "</style>\n",
       "<table border=\"1\" class=\"dataframe\">\n",
       "  <thead>\n",
       "    <tr style=\"text-align: right;\">\n",
       "      <th></th>\n",
       "      <th>business_id</th>\n",
       "      <th>stars</th>\n",
       "      <th>monday</th>\n",
       "      <th>tuesday</th>\n",
       "      <th>wednesday</th>\n",
       "      <th>thursday</th>\n",
       "      <th>friday</th>\n",
       "      <th>saturday</th>\n",
       "      <th>sunday</th>\n",
       "    </tr>\n",
       "  </thead>\n",
       "  <tbody>\n",
       "    <tr>\n",
       "      <th>0</th>\n",
       "      <td>FYWN1wneV18bWNgQjJ2GNg</td>\n",
       "      <td>4.0</td>\n",
       "      <td>1</td>\n",
       "      <td>1</td>\n",
       "      <td>1</td>\n",
       "      <td>1</td>\n",
       "      <td>1</td>\n",
       "      <td>1</td>\n",
       "      <td>1</td>\n",
       "    </tr>\n",
       "    <tr>\n",
       "      <th>1</th>\n",
       "      <td>He-G7vWjzVUysIKrfNbPUQ</td>\n",
       "      <td>3.0</td>\n",
       "      <td>1</td>\n",
       "      <td>1</td>\n",
       "      <td>1</td>\n",
       "      <td>1</td>\n",
       "      <td>1</td>\n",
       "      <td>1</td>\n",
       "      <td>1</td>\n",
       "    </tr>\n",
       "    <tr>\n",
       "      <th>2</th>\n",
       "      <td>KQPW8lFf1y5BT2MxiSZ3QA</td>\n",
       "      <td>1.5</td>\n",
       "      <td>1</td>\n",
       "      <td>1</td>\n",
       "      <td>1</td>\n",
       "      <td>1</td>\n",
       "      <td>1</td>\n",
       "      <td>1</td>\n",
       "      <td>1</td>\n",
       "    </tr>\n",
       "    <tr>\n",
       "      <th>3</th>\n",
       "      <td>8DShNS-LuFqpEWIp0HxijA</td>\n",
       "      <td>3.0</td>\n",
       "      <td>1</td>\n",
       "      <td>1</td>\n",
       "      <td>1</td>\n",
       "      <td>1</td>\n",
       "      <td>1</td>\n",
       "      <td>1</td>\n",
       "      <td>1</td>\n",
       "    </tr>\n",
       "    <tr>\n",
       "      <th>4</th>\n",
       "      <td>PfOCPjBrlQAnz__NXj9h_w</td>\n",
       "      <td>3.5</td>\n",
       "      <td>1</td>\n",
       "      <td>1</td>\n",
       "      <td>1</td>\n",
       "      <td>1</td>\n",
       "      <td>1</td>\n",
       "      <td>1</td>\n",
       "      <td>1</td>\n",
       "    </tr>\n",
       "    <tr>\n",
       "      <th>...</th>\n",
       "      <td>...</td>\n",
       "      <td>...</td>\n",
       "      <td>...</td>\n",
       "      <td>...</td>\n",
       "      <td>...</td>\n",
       "      <td>...</td>\n",
       "      <td>...</td>\n",
       "      <td>...</td>\n",
       "      <td>...</td>\n",
       "    </tr>\n",
       "    <tr>\n",
       "      <th>174562</th>\n",
       "      <td>ALV5R8NkZ1KGOZeuZl3u0A</td>\n",
       "      <td>4.0</td>\n",
       "      <td>1</td>\n",
       "      <td>1</td>\n",
       "      <td>1</td>\n",
       "      <td>1</td>\n",
       "      <td>1</td>\n",
       "      <td>1</td>\n",
       "      <td>1</td>\n",
       "    </tr>\n",
       "    <tr>\n",
       "      <th>174563</th>\n",
       "      <td>gRGalHVu6BcaUDIAGVW_xQ</td>\n",
       "      <td>5.0</td>\n",
       "      <td>1</td>\n",
       "      <td>1</td>\n",
       "      <td>1</td>\n",
       "      <td>1</td>\n",
       "      <td>1</td>\n",
       "      <td>1</td>\n",
       "      <td>1</td>\n",
       "    </tr>\n",
       "    <tr>\n",
       "      <th>174564</th>\n",
       "      <td>XXvZBIHoJBU5d6-a-oyMWQ</td>\n",
       "      <td>1.5</td>\n",
       "      <td>1</td>\n",
       "      <td>1</td>\n",
       "      <td>1</td>\n",
       "      <td>1</td>\n",
       "      <td>1</td>\n",
       "      <td>1</td>\n",
       "      <td>1</td>\n",
       "    </tr>\n",
       "    <tr>\n",
       "      <th>174565</th>\n",
       "      <td>lNpPGgM96nPIYM1shxciHg</td>\n",
       "      <td>5.0</td>\n",
       "      <td>1</td>\n",
       "      <td>1</td>\n",
       "      <td>1</td>\n",
       "      <td>1</td>\n",
       "      <td>1</td>\n",
       "      <td>1</td>\n",
       "      <td>1</td>\n",
       "    </tr>\n",
       "    <tr>\n",
       "      <th>174566</th>\n",
       "      <td>viKaP26BcHU6cLx8sf4gKg</td>\n",
       "      <td>5.0</td>\n",
       "      <td>1</td>\n",
       "      <td>1</td>\n",
       "      <td>1</td>\n",
       "      <td>1</td>\n",
       "      <td>1</td>\n",
       "      <td>1</td>\n",
       "      <td>1</td>\n",
       "    </tr>\n",
       "  </tbody>\n",
       "</table>\n",
       "<p>174567 rows × 9 columns</p>\n",
       "</div>"
      ],
      "text/plain": [
       "                   business_id  stars  monday  tuesday  wednesday  thursday  \\\n",
       "0       FYWN1wneV18bWNgQjJ2GNg    4.0       1        1          1         1   \n",
       "1       He-G7vWjzVUysIKrfNbPUQ    3.0       1        1          1         1   \n",
       "2       KQPW8lFf1y5BT2MxiSZ3QA    1.5       1        1          1         1   \n",
       "3       8DShNS-LuFqpEWIp0HxijA    3.0       1        1          1         1   \n",
       "4       PfOCPjBrlQAnz__NXj9h_w    3.5       1        1          1         1   \n",
       "...                        ...    ...     ...      ...        ...       ...   \n",
       "174562  ALV5R8NkZ1KGOZeuZl3u0A    4.0       1        1          1         1   \n",
       "174563  gRGalHVu6BcaUDIAGVW_xQ    5.0       1        1          1         1   \n",
       "174564  XXvZBIHoJBU5d6-a-oyMWQ    1.5       1        1          1         1   \n",
       "174565  lNpPGgM96nPIYM1shxciHg    5.0       1        1          1         1   \n",
       "174566  viKaP26BcHU6cLx8sf4gKg    5.0       1        1          1         1   \n",
       "\n",
       "        friday  saturday  sunday  \n",
       "0            1         1       1  \n",
       "1            1         1       1  \n",
       "2            1         1       1  \n",
       "3            1         1       1  \n",
       "4            1         1       1  \n",
       "...        ...       ...     ...  \n",
       "174562       1         1       1  \n",
       "174563       1         1       1  \n",
       "174564       1         1       1  \n",
       "174565       1         1       1  \n",
       "174566       1         1       1  \n",
       "\n",
       "[174567 rows x 9 columns]"
      ]
     },
     "execution_count": 103,
     "metadata": {},
     "output_type": "execute_result"
    }
   ],
   "source": [
    "newcolumns = merged_data[['business_id', 'stars', 'monday','tuesday','wednesday','thursday','friday','saturday','sunday']]\n",
    "newcolumns"
   ]
  },
  {
   "cell_type": "code",
   "execution_count": 105,
   "metadata": {},
   "outputs": [
    {
     "name": "stderr",
     "output_type": "stream",
     "text": [
      "/var/folders/gt/kg06ygw94_31t4c66mzrq6lh0000gn/T/ipykernel_27839/3704511594.py:1: SettingWithCopyWarning: \n",
      "A value is trying to be set on a copy of a slice from a DataFrame.\n",
      "Try using .loc[row_indexer,col_indexer] = value instead\n",
      "\n",
      "See the caveats in the documentation: https://pandas.pydata.org/pandas-docs/stable/user_guide/indexing.html#returning-a-view-versus-a-copy\n",
      "  newcolumns['opendays'] = newcolumns['monday'] + newcolumns['tuesday'] + newcolumns['wednesday'] + newcolumns['thursday'] + newcolumns['friday'] + newcolumns['saturday'] + newcolumns['sunday']\n"
     ]
    },
    {
     "data": {
      "text/html": [
       "<div>\n",
       "<style scoped>\n",
       "    .dataframe tbody tr th:only-of-type {\n",
       "        vertical-align: middle;\n",
       "    }\n",
       "\n",
       "    .dataframe tbody tr th {\n",
       "        vertical-align: top;\n",
       "    }\n",
       "\n",
       "    .dataframe thead th {\n",
       "        text-align: right;\n",
       "    }\n",
       "</style>\n",
       "<table border=\"1\" class=\"dataframe\">\n",
       "  <thead>\n",
       "    <tr style=\"text-align: right;\">\n",
       "      <th></th>\n",
       "      <th>business_id</th>\n",
       "      <th>stars</th>\n",
       "      <th>monday</th>\n",
       "      <th>tuesday</th>\n",
       "      <th>wednesday</th>\n",
       "      <th>thursday</th>\n",
       "      <th>friday</th>\n",
       "      <th>saturday</th>\n",
       "      <th>sunday</th>\n",
       "      <th>opendays</th>\n",
       "    </tr>\n",
       "  </thead>\n",
       "  <tbody>\n",
       "    <tr>\n",
       "      <th>0</th>\n",
       "      <td>FYWN1wneV18bWNgQjJ2GNg</td>\n",
       "      <td>4.0</td>\n",
       "      <td>1</td>\n",
       "      <td>1</td>\n",
       "      <td>1</td>\n",
       "      <td>1</td>\n",
       "      <td>1</td>\n",
       "      <td>1</td>\n",
       "      <td>1</td>\n",
       "      <td>7</td>\n",
       "    </tr>\n",
       "    <tr>\n",
       "      <th>1</th>\n",
       "      <td>He-G7vWjzVUysIKrfNbPUQ</td>\n",
       "      <td>3.0</td>\n",
       "      <td>1</td>\n",
       "      <td>1</td>\n",
       "      <td>1</td>\n",
       "      <td>1</td>\n",
       "      <td>1</td>\n",
       "      <td>1</td>\n",
       "      <td>1</td>\n",
       "      <td>7</td>\n",
       "    </tr>\n",
       "    <tr>\n",
       "      <th>2</th>\n",
       "      <td>KQPW8lFf1y5BT2MxiSZ3QA</td>\n",
       "      <td>1.5</td>\n",
       "      <td>1</td>\n",
       "      <td>1</td>\n",
       "      <td>1</td>\n",
       "      <td>1</td>\n",
       "      <td>1</td>\n",
       "      <td>1</td>\n",
       "      <td>1</td>\n",
       "      <td>7</td>\n",
       "    </tr>\n",
       "    <tr>\n",
       "      <th>3</th>\n",
       "      <td>8DShNS-LuFqpEWIp0HxijA</td>\n",
       "      <td>3.0</td>\n",
       "      <td>1</td>\n",
       "      <td>1</td>\n",
       "      <td>1</td>\n",
       "      <td>1</td>\n",
       "      <td>1</td>\n",
       "      <td>1</td>\n",
       "      <td>1</td>\n",
       "      <td>7</td>\n",
       "    </tr>\n",
       "    <tr>\n",
       "      <th>4</th>\n",
       "      <td>PfOCPjBrlQAnz__NXj9h_w</td>\n",
       "      <td>3.5</td>\n",
       "      <td>1</td>\n",
       "      <td>1</td>\n",
       "      <td>1</td>\n",
       "      <td>1</td>\n",
       "      <td>1</td>\n",
       "      <td>1</td>\n",
       "      <td>1</td>\n",
       "      <td>7</td>\n",
       "    </tr>\n",
       "    <tr>\n",
       "      <th>...</th>\n",
       "      <td>...</td>\n",
       "      <td>...</td>\n",
       "      <td>...</td>\n",
       "      <td>...</td>\n",
       "      <td>...</td>\n",
       "      <td>...</td>\n",
       "      <td>...</td>\n",
       "      <td>...</td>\n",
       "      <td>...</td>\n",
       "      <td>...</td>\n",
       "    </tr>\n",
       "    <tr>\n",
       "      <th>174562</th>\n",
       "      <td>ALV5R8NkZ1KGOZeuZl3u0A</td>\n",
       "      <td>4.0</td>\n",
       "      <td>1</td>\n",
       "      <td>1</td>\n",
       "      <td>1</td>\n",
       "      <td>1</td>\n",
       "      <td>1</td>\n",
       "      <td>1</td>\n",
       "      <td>1</td>\n",
       "      <td>7</td>\n",
       "    </tr>\n",
       "    <tr>\n",
       "      <th>174563</th>\n",
       "      <td>gRGalHVu6BcaUDIAGVW_xQ</td>\n",
       "      <td>5.0</td>\n",
       "      <td>1</td>\n",
       "      <td>1</td>\n",
       "      <td>1</td>\n",
       "      <td>1</td>\n",
       "      <td>1</td>\n",
       "      <td>1</td>\n",
       "      <td>1</td>\n",
       "      <td>7</td>\n",
       "    </tr>\n",
       "    <tr>\n",
       "      <th>174564</th>\n",
       "      <td>XXvZBIHoJBU5d6-a-oyMWQ</td>\n",
       "      <td>1.5</td>\n",
       "      <td>1</td>\n",
       "      <td>1</td>\n",
       "      <td>1</td>\n",
       "      <td>1</td>\n",
       "      <td>1</td>\n",
       "      <td>1</td>\n",
       "      <td>1</td>\n",
       "      <td>7</td>\n",
       "    </tr>\n",
       "    <tr>\n",
       "      <th>174565</th>\n",
       "      <td>lNpPGgM96nPIYM1shxciHg</td>\n",
       "      <td>5.0</td>\n",
       "      <td>1</td>\n",
       "      <td>1</td>\n",
       "      <td>1</td>\n",
       "      <td>1</td>\n",
       "      <td>1</td>\n",
       "      <td>1</td>\n",
       "      <td>1</td>\n",
       "      <td>7</td>\n",
       "    </tr>\n",
       "    <tr>\n",
       "      <th>174566</th>\n",
       "      <td>viKaP26BcHU6cLx8sf4gKg</td>\n",
       "      <td>5.0</td>\n",
       "      <td>1</td>\n",
       "      <td>1</td>\n",
       "      <td>1</td>\n",
       "      <td>1</td>\n",
       "      <td>1</td>\n",
       "      <td>1</td>\n",
       "      <td>1</td>\n",
       "      <td>7</td>\n",
       "    </tr>\n",
       "  </tbody>\n",
       "</table>\n",
       "<p>174567 rows × 10 columns</p>\n",
       "</div>"
      ],
      "text/plain": [
       "                   business_id  stars  monday  tuesday  wednesday  thursday  \\\n",
       "0       FYWN1wneV18bWNgQjJ2GNg    4.0       1        1          1         1   \n",
       "1       He-G7vWjzVUysIKrfNbPUQ    3.0       1        1          1         1   \n",
       "2       KQPW8lFf1y5BT2MxiSZ3QA    1.5       1        1          1         1   \n",
       "3       8DShNS-LuFqpEWIp0HxijA    3.0       1        1          1         1   \n",
       "4       PfOCPjBrlQAnz__NXj9h_w    3.5       1        1          1         1   \n",
       "...                        ...    ...     ...      ...        ...       ...   \n",
       "174562  ALV5R8NkZ1KGOZeuZl3u0A    4.0       1        1          1         1   \n",
       "174563  gRGalHVu6BcaUDIAGVW_xQ    5.0       1        1          1         1   \n",
       "174564  XXvZBIHoJBU5d6-a-oyMWQ    1.5       1        1          1         1   \n",
       "174565  lNpPGgM96nPIYM1shxciHg    5.0       1        1          1         1   \n",
       "174566  viKaP26BcHU6cLx8sf4gKg    5.0       1        1          1         1   \n",
       "\n",
       "        friday  saturday  sunday  opendays  \n",
       "0            1         1       1         7  \n",
       "1            1         1       1         7  \n",
       "2            1         1       1         7  \n",
       "3            1         1       1         7  \n",
       "4            1         1       1         7  \n",
       "...        ...       ...     ...       ...  \n",
       "174562       1         1       1         7  \n",
       "174563       1         1       1         7  \n",
       "174564       1         1       1         7  \n",
       "174565       1         1       1         7  \n",
       "174566       1         1       1         7  \n",
       "\n",
       "[174567 rows x 10 columns]"
      ]
     },
     "execution_count": 105,
     "metadata": {},
     "output_type": "execute_result"
    }
   ],
   "source": [
    "newcolumns['opendays'] = newcolumns['monday'] + newcolumns['tuesday'] + newcolumns['wednesday'] + newcolumns['thursday'] + newcolumns['friday'] + newcolumns['saturday'] + newcolumns['sunday']\n",
    "newcolumns"
   ]
  },
  {
   "cell_type": "code",
   "execution_count": 106,
   "metadata": {},
   "outputs": [
    {
     "name": "stderr",
     "output_type": "stream",
     "text": [
      "/var/folders/gt/kg06ygw94_31t4c66mzrq6lh0000gn/T/ipykernel_27839/1155390910.py:1: FutureWarning: The default value of numeric_only in DataFrameGroupBy.mean is deprecated. In a future version, numeric_only will default to False. Either specify numeric_only or select only columns which should be valid for the function.\n",
      "  avg_opendays = newcolumns.groupby(['opendays']).mean()\n"
     ]
    },
    {
     "data": {
      "text/html": [
       "<div>\n",
       "<style scoped>\n",
       "    .dataframe tbody tr th:only-of-type {\n",
       "        vertical-align: middle;\n",
       "    }\n",
       "\n",
       "    .dataframe tbody tr th {\n",
       "        vertical-align: top;\n",
       "    }\n",
       "\n",
       "    .dataframe thead th {\n",
       "        text-align: right;\n",
       "    }\n",
       "</style>\n",
       "<table border=\"1\" class=\"dataframe\">\n",
       "  <thead>\n",
       "    <tr style=\"text-align: right;\">\n",
       "      <th></th>\n",
       "      <th>stars</th>\n",
       "      <th>monday</th>\n",
       "      <th>tuesday</th>\n",
       "      <th>wednesday</th>\n",
       "      <th>thursday</th>\n",
       "      <th>friday</th>\n",
       "      <th>saturday</th>\n",
       "      <th>sunday</th>\n",
       "    </tr>\n",
       "    <tr>\n",
       "      <th>opendays</th>\n",
       "      <th></th>\n",
       "      <th></th>\n",
       "      <th></th>\n",
       "      <th></th>\n",
       "      <th></th>\n",
       "      <th></th>\n",
       "      <th></th>\n",
       "      <th></th>\n",
       "    </tr>\n",
       "  </thead>\n",
       "  <tbody>\n",
       "    <tr>\n",
       "      <th>7</th>\n",
       "      <td>3.632196</td>\n",
       "      <td>1.0</td>\n",
       "      <td>1.0</td>\n",
       "      <td>1.0</td>\n",
       "      <td>1.0</td>\n",
       "      <td>1.0</td>\n",
       "      <td>1.0</td>\n",
       "      <td>1.0</td>\n",
       "    </tr>\n",
       "  </tbody>\n",
       "</table>\n",
       "</div>"
      ],
      "text/plain": [
       "             stars  monday  tuesday  wednesday  thursday  friday  saturday  \\\n",
       "opendays                                                                     \n",
       "7         3.632196     1.0      1.0        1.0       1.0     1.0       1.0   \n",
       "\n",
       "          sunday  \n",
       "opendays          \n",
       "7            1.0  "
      ]
     },
     "execution_count": 106,
     "metadata": {},
     "output_type": "execute_result"
    }
   ],
   "source": [
    "avg_opendays = newcolumns.groupby(['opendays']).mean()\n",
    "avg_opendays"
   ]
  },
  {
   "cell_type": "code",
   "execution_count": 111,
   "metadata": {},
   "outputs": [
    {
     "data": {
      "image/png": "[encoded data removed]",
      "text/plain": [
       "<Figure size 2000x1000 with 1 Axes>"
      ]
     },
     "metadata": {},
     "output_type": "display_data"
    }
   ],
   "source": [
    "#各年各月注册用户数\n",
    "df_user['yelping_since'] = pd.to_datetime(df_user['yelping_since'])\n",
    "df_user['year'] = df_user['yelping_since'].dt.year\n",
    "df_user['month'] = df_user['yelping_since'].dt.month\n",
    "user_creation = df_user.groupby(['year','month']).size().reset_index(name='count')\n",
    "\n",
    "plt.figure(figsize=(20,10))\n",
    "timeline = user_creation['year'].astype(str) + '-' + user_creation['month'].astype(str).str.zfill(2)\n",
    "plt.plot(timeline, user_creation['count'])\n",
    "\n",
    "plt.xticks(timeline[::12], rotation=45)\n",
    "plt.xlabel('Year-Month')\n",
    "plt.ylabel('Number of User Created')\n",
    "plt.title('User Creation Over Time')\n",
    "plt.grid(True)\n",
    "plt.show()"
   ]
  },
  {
   "cell_type": "code",
   "execution_count": null,
   "metadata": {},
   "outputs": [],
   "source": [
    "# create plot for every year"
   ]
  },
  {
   "cell_type": "code",
   "execution_count": null,
   "metadata": {},
   "outputs": [],
   "source": [
    "#各年精英客户数量和占比？\n"
   ]
  },
  {
   "cell_type": "code",
   "execution_count": 112,
   "metadata": {},
   "outputs": [
    {
     "name": "stderr",
     "output_type": "stream",
     "text": [
      "/var/folders/gt/kg06ygw94_31t4c66mzrq6lh0000gn/T/ipykernel_27839/3019116885.py:14: FutureWarning: The frame.append method is deprecated and will be removed from pandas in a future version. Use pandas.concat instead.\n",
      "  df_retention = df_retention.append({'Year' : year, 'Retention_Rate' : retention_rate}, ignore_index=True)\n"
     ]
    },
    {
     "data": {
      "image/png": "[encoded data removed]",
      "text/plain": [
       "<Figure size 500x500 with 1 Axes>"
      ]
     },
     "metadata": {},
     "output_type": "display_data"
    }
   ],
   "source": [
    "#用户年留存率如何？精英用户年留存率如何？\n",
    "df_user['join_year'] = pd.to_datetime(df_user['yelping_since']).dt.year\n",
    "df_retention = pd.DataFrame(columns=['Year','Retention_Rate'])\n",
    "\n",
    "for year in range(2004, 2017):\n",
    "    users = df_user[df_user['join_year'] == year]\n",
    "    second_year_users = df_user[(df_user['join_year'] == year+1) & (df_user['user_id'].isin(users['user_id']))]\n",
    "    \n",
    "    if len(users) !=0:\n",
    "        retention_rate = (len(second_year_users)/len(users))*100\n",
    "    else:\n",
    "        retention_rate = 0\n",
    "\n",
    "df_retention = df_retention.append({'Year' : year, 'Retention_Rate' : retention_rate}, ignore_index=True)\n",
    "\n",
    "\n",
    "plt.figure(figsize=(5,5))\n",
    "plt.plot(df_retention['Year'], df_retention['Retention_Rate'])\n",
    "plt.title('Yearly Retention Rate')\n",
    "plt.xlabel('Year')\n",
    "plt.ylabel('Retention Rate')\n",
    "plt.grid(True)\n",
    "plt.show()"
   ]
  },
  {
   "cell_type": "code",
   "execution_count": 113,
   "metadata": {},
   "outputs": [
    {
     "data": {
      "text/html": [
       "<div>\n",
       "<style scoped>\n",
       "    .dataframe tbody tr th:only-of-type {\n",
       "        vertical-align: middle;\n",
       "    }\n",
       "\n",
       "    .dataframe tbody tr th {\n",
       "        vertical-align: top;\n",
       "    }\n",
       "\n",
       "    .dataframe thead th {\n",
       "        text-align: right;\n",
       "    }\n",
       "</style>\n",
       "<table border=\"1\" class=\"dataframe\">\n",
       "  <thead>\n",
       "    <tr style=\"text-align: right;\">\n",
       "      <th></th>\n",
       "      <th>Year</th>\n",
       "      <th>Retention_Rate</th>\n",
       "    </tr>\n",
       "  </thead>\n",
       "  <tbody>\n",
       "    <tr>\n",
       "      <th>0</th>\n",
       "      <td>2016.0</td>\n",
       "      <td>0.0</td>\n",
       "    </tr>\n",
       "  </tbody>\n",
       "</table>\n",
       "</div>"
      ],
      "text/plain": [
       "     Year  Retention_Rate\n",
       "0  2016.0             0.0"
      ]
     },
     "execution_count": 113,
     "metadata": {},
     "output_type": "execute_result"
    }
   ],
   "source": [
    "df_retention"
   ]
  }
 ],
 "metadata": {
  "kernelspec": {
   "display_name": "base",
   "language": "python",
   "name": "python3"
  },
  "language_info": {
   "codemirror_mode": {
    "name": "ipython",
    "version": 3
   },
   "file_extension": ".py",
   "mimetype": "text/x-python",
   "name": "python",
   "nbconvert_exporter": "python",
   "pygments_lexer": "ipython3",
   "version": "3.9.16"
  },
  "orig_nbformat": 4
 },
 "nbformat": 4,
 "nbformat_minor": 2
}
